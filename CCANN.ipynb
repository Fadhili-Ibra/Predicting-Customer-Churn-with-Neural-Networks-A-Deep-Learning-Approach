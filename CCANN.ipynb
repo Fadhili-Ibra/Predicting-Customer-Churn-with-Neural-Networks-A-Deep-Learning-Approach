{
 "cells": [
  {
   "cell_type": "markdown",
   "metadata": {},
   "source": [
    "# \"Predicting Customer Churn with Neural Networks: A Deep Learning Approach\""
   ]
  },
  {
   "cell_type": "markdown",
   "metadata": {},
   "source": [
    "The Customer Churn ML model using Artificial Neural Networks helps businesses predict and understand customer churn, which refers to the rate at which customers stop doing business with a company. By utilizing neural networks and machine learning, the model can analyze patterns and factors contributing to customer churn, providing insights for businesses to take proactive measures. This could include targeted retention strategies, improved customer service, or personalized offerings to mitigate the impact of customer attrition and enhance overall customer satisfaction and loyalty."
   ]
  },
  {
   "cell_type": "code",
   "execution_count": 60,
   "metadata": {},
   "outputs": [],
   "source": [
    "import pandas as pd\n",
    "import numpy as np\n",
    "from sklearn.model_selection import train_test_split\n",
    "import matplotlib.pyplot as plt\n",
    "from rich import print"
   ]
  },
  {
   "cell_type": "code",
   "execution_count": 6,
   "metadata": {},
   "outputs": [
    {
     "data": {
      "text/html": [
       "<div>\n",
       "<style scoped>\n",
       "    .dataframe tbody tr th:only-of-type {\n",
       "        vertical-align: middle;\n",
       "    }\n",
       "\n",
       "    .dataframe tbody tr th {\n",
       "        vertical-align: top;\n",
       "    }\n",
       "\n",
       "    .dataframe thead th {\n",
       "        text-align: right;\n",
       "    }\n",
       "</style>\n",
       "<table border=\"1\" class=\"dataframe\">\n",
       "  <thead>\n",
       "    <tr style=\"text-align: right;\">\n",
       "      <th></th>\n",
       "      <th>customerID</th>\n",
       "      <th>gender</th>\n",
       "      <th>SeniorCitizen</th>\n",
       "      <th>Partner</th>\n",
       "      <th>Dependents</th>\n",
       "      <th>tenure</th>\n",
       "      <th>PhoneService</th>\n",
       "      <th>MultipleLines</th>\n",
       "      <th>InternetService</th>\n",
       "      <th>OnlineSecurity</th>\n",
       "      <th>...</th>\n",
       "      <th>DeviceProtection</th>\n",
       "      <th>TechSupport</th>\n",
       "      <th>StreamingTV</th>\n",
       "      <th>StreamingMovies</th>\n",
       "      <th>Contract</th>\n",
       "      <th>PaperlessBilling</th>\n",
       "      <th>PaymentMethod</th>\n",
       "      <th>MonthlyCharges</th>\n",
       "      <th>TotalCharges</th>\n",
       "      <th>Churn</th>\n",
       "    </tr>\n",
       "  </thead>\n",
       "  <tbody>\n",
       "    <tr>\n",
       "      <th>0</th>\n",
       "      <td>7590-VHVEG</td>\n",
       "      <td>Female</td>\n",
       "      <td>0</td>\n",
       "      <td>Yes</td>\n",
       "      <td>No</td>\n",
       "      <td>1</td>\n",
       "      <td>No</td>\n",
       "      <td>No phone service</td>\n",
       "      <td>DSL</td>\n",
       "      <td>No</td>\n",
       "      <td>...</td>\n",
       "      <td>No</td>\n",
       "      <td>No</td>\n",
       "      <td>No</td>\n",
       "      <td>No</td>\n",
       "      <td>Month-to-month</td>\n",
       "      <td>Yes</td>\n",
       "      <td>Electronic check</td>\n",
       "      <td>29.85</td>\n",
       "      <td>29.85</td>\n",
       "      <td>No</td>\n",
       "    </tr>\n",
       "    <tr>\n",
       "      <th>1</th>\n",
       "      <td>5575-GNVDE</td>\n",
       "      <td>Male</td>\n",
       "      <td>0</td>\n",
       "      <td>No</td>\n",
       "      <td>No</td>\n",
       "      <td>34</td>\n",
       "      <td>Yes</td>\n",
       "      <td>No</td>\n",
       "      <td>DSL</td>\n",
       "      <td>Yes</td>\n",
       "      <td>...</td>\n",
       "      <td>Yes</td>\n",
       "      <td>No</td>\n",
       "      <td>No</td>\n",
       "      <td>No</td>\n",
       "      <td>One year</td>\n",
       "      <td>No</td>\n",
       "      <td>Mailed check</td>\n",
       "      <td>56.95</td>\n",
       "      <td>1889.5</td>\n",
       "      <td>No</td>\n",
       "    </tr>\n",
       "    <tr>\n",
       "      <th>2</th>\n",
       "      <td>3668-QPYBK</td>\n",
       "      <td>Male</td>\n",
       "      <td>0</td>\n",
       "      <td>No</td>\n",
       "      <td>No</td>\n",
       "      <td>2</td>\n",
       "      <td>Yes</td>\n",
       "      <td>No</td>\n",
       "      <td>DSL</td>\n",
       "      <td>Yes</td>\n",
       "      <td>...</td>\n",
       "      <td>No</td>\n",
       "      <td>No</td>\n",
       "      <td>No</td>\n",
       "      <td>No</td>\n",
       "      <td>Month-to-month</td>\n",
       "      <td>Yes</td>\n",
       "      <td>Mailed check</td>\n",
       "      <td>53.85</td>\n",
       "      <td>108.15</td>\n",
       "      <td>Yes</td>\n",
       "    </tr>\n",
       "    <tr>\n",
       "      <th>3</th>\n",
       "      <td>7795-CFOCW</td>\n",
       "      <td>Male</td>\n",
       "      <td>0</td>\n",
       "      <td>No</td>\n",
       "      <td>No</td>\n",
       "      <td>45</td>\n",
       "      <td>No</td>\n",
       "      <td>No phone service</td>\n",
       "      <td>DSL</td>\n",
       "      <td>Yes</td>\n",
       "      <td>...</td>\n",
       "      <td>Yes</td>\n",
       "      <td>Yes</td>\n",
       "      <td>No</td>\n",
       "      <td>No</td>\n",
       "      <td>One year</td>\n",
       "      <td>No</td>\n",
       "      <td>Bank transfer (automatic)</td>\n",
       "      <td>42.30</td>\n",
       "      <td>1840.75</td>\n",
       "      <td>No</td>\n",
       "    </tr>\n",
       "    <tr>\n",
       "      <th>4</th>\n",
       "      <td>9237-HQITU</td>\n",
       "      <td>Female</td>\n",
       "      <td>0</td>\n",
       "      <td>No</td>\n",
       "      <td>No</td>\n",
       "      <td>2</td>\n",
       "      <td>Yes</td>\n",
       "      <td>No</td>\n",
       "      <td>Fiber optic</td>\n",
       "      <td>No</td>\n",
       "      <td>...</td>\n",
       "      <td>No</td>\n",
       "      <td>No</td>\n",
       "      <td>No</td>\n",
       "      <td>No</td>\n",
       "      <td>Month-to-month</td>\n",
       "      <td>Yes</td>\n",
       "      <td>Electronic check</td>\n",
       "      <td>70.70</td>\n",
       "      <td>151.65</td>\n",
       "      <td>Yes</td>\n",
       "    </tr>\n",
       "  </tbody>\n",
       "</table>\n",
       "<p>5 rows × 21 columns</p>\n",
       "</div>"
      ],
      "text/plain": [
       "   customerID  gender  SeniorCitizen Partner Dependents  tenure PhoneService  \\\n",
       "0  7590-VHVEG  Female              0     Yes         No       1           No   \n",
       "1  5575-GNVDE    Male              0      No         No      34          Yes   \n",
       "2  3668-QPYBK    Male              0      No         No       2          Yes   \n",
       "3  7795-CFOCW    Male              0      No         No      45           No   \n",
       "4  9237-HQITU  Female              0      No         No       2          Yes   \n",
       "\n",
       "      MultipleLines InternetService OnlineSecurity  ... DeviceProtection  \\\n",
       "0  No phone service             DSL             No  ...               No   \n",
       "1                No             DSL            Yes  ...              Yes   \n",
       "2                No             DSL            Yes  ...               No   \n",
       "3  No phone service             DSL            Yes  ...              Yes   \n",
       "4                No     Fiber optic             No  ...               No   \n",
       "\n",
       "  TechSupport StreamingTV StreamingMovies        Contract PaperlessBilling  \\\n",
       "0          No          No              No  Month-to-month              Yes   \n",
       "1          No          No              No        One year               No   \n",
       "2          No          No              No  Month-to-month              Yes   \n",
       "3         Yes          No              No        One year               No   \n",
       "4          No          No              No  Month-to-month              Yes   \n",
       "\n",
       "               PaymentMethod MonthlyCharges  TotalCharges Churn  \n",
       "0           Electronic check          29.85         29.85    No  \n",
       "1               Mailed check          56.95        1889.5    No  \n",
       "2               Mailed check          53.85        108.15   Yes  \n",
       "3  Bank transfer (automatic)          42.30       1840.75    No  \n",
       "4           Electronic check          70.70        151.65   Yes  \n",
       "\n",
       "[5 rows x 21 columns]"
      ]
     },
     "execution_count": 6,
     "metadata": {},
     "output_type": "execute_result"
    }
   ],
   "source": [
    "df = pd.read_csv(\"Telco-Customer-Churn.csv\")\n",
    "df.head()"
   ]
  },
  {
   "cell_type": "code",
   "execution_count": 13,
   "metadata": {},
   "outputs": [
    {
     "data": {
      "text/plain": [
       "gender                int64\n",
       "SeniorCitizen         int64\n",
       "Partner              object\n",
       "Dependents           object\n",
       "tenure                int64\n",
       "PhoneService         object\n",
       "MultipleLines        object\n",
       "InternetService      object\n",
       "OnlineSecurity       object\n",
       "OnlineBackup         object\n",
       "DeviceProtection     object\n",
       "TechSupport          object\n",
       "StreamingTV          object\n",
       "StreamingMovies      object\n",
       "Contract             object\n",
       "PaperlessBilling     object\n",
       "PaymentMethod        object\n",
       "MonthlyCharges      float64\n",
       "TotalCharges         object\n",
       "Churn                object\n",
       "dtype: object"
      ]
     },
     "execution_count": 13,
     "metadata": {},
     "output_type": "execute_result"
    }
   ],
   "source": [
    "#drop customerID column since its not useful in the data\n",
    "#check the datatypes\n",
    "df.drop(\"customerID\", axis=\"columns\", inplace=True)\n",
    "df.dtypes"
   ]
  },
  {
   "cell_type": "code",
   "execution_count": 7,
   "metadata": {},
   "outputs": [
    {
     "data": {
      "text/plain": [
       "0       False\n",
       "1       False\n",
       "2       False\n",
       "3       False\n",
       "4       False\n",
       "        ...  \n",
       "7038    False\n",
       "7039    False\n",
       "7040    False\n",
       "7041    False\n",
       "7042    False\n",
       "Name: TotalCharges, Length: 7043, dtype: bool"
      ]
     },
     "execution_count": 7,
     "metadata": {},
     "output_type": "execute_result"
    }
   ],
   "source": [
    "#change the datatype of TotalCharges column to Numeric\n",
    "#float\n",
    "pd.to_numeric(df.TotalCharges,errors = 'coerce').isnull()\n"
   ]
  },
  {
   "cell_type": "code",
   "execution_count": 8,
   "metadata": {},
   "outputs": [
    {
     "data": {
      "text/plain": [
       "(7032, 21)"
      ]
     },
     "execution_count": 8,
     "metadata": {},
     "output_type": "execute_result"
    }
   ],
   "source": [
    "#show the rows for which the TotalCharges are blanks\n",
    "\n",
    "df = df[pd.to_numeric(df.TotalCharges,errors = 'coerce').notnull()]\n",
    "df.shape"
   ]
  },
  {
   "cell_type": "code",
   "execution_count": 17,
   "metadata": {},
   "outputs": [
    {
     "name": "stderr",
     "output_type": "stream",
     "text": [
      "C:\\Users\\user\\AppData\\Local\\Temp\\ipykernel_11144\\3408106132.py:3: SettingWithCopyWarning: \n",
      "A value is trying to be set on a copy of a slice from a DataFrame.\n",
      "Try using .loc[row_indexer,col_indexer] = value instead\n",
      "\n",
      "See the caveats in the documentation: https://pandas.pydata.org/pandas-docs/stable/user_guide/indexing.html#returning-a-view-versus-a-copy\n",
      "  df.TotalCharges = pd.to_numeric(df.TotalCharges)\n"
     ]
    },
    {
     "data": {
      "text/plain": [
       "dtype('float64')"
      ]
     },
     "execution_count": 17,
     "metadata": {},
     "output_type": "execute_result"
    }
   ],
   "source": [
    "#the totalcharges data types are converted to floats\n",
    "\n",
    "df.TotalCharges = pd.to_numeric(df.TotalCharges)\n",
    "\n",
    "df.TotalCharges.dtypes"
   ]
  },
  {
   "cell_type": "markdown",
   "metadata": {},
   "source": [
    "# Vizualisation"
   ]
  },
  {
   "cell_type": "code",
   "execution_count": 9,
   "metadata": {},
   "outputs": [
    {
     "data": {
      "text/plain": [
       "(1869, 21)"
      ]
     },
     "execution_count": 9,
     "metadata": {},
     "output_type": "execute_result"
    }
   ],
   "source": [
    "#visualize the tenure column - number of customers leaving and number of customers not leaving\n",
    "\n",
    "df[df.Churn == \"No\"].shape\n",
    "df[df.Churn == \"Yes\"].shape"
   ]
  },
  {
   "cell_type": "markdown",
   "metadata": {},
   "source": [
    "So from the dataset 5163 customers aren't leaving while 1869 are leaving out of 7032 customers \n"
   ]
  },
  {
   "cell_type": "code",
   "execution_count": 10,
   "metadata": {},
   "outputs": [],
   "source": [
    "# find the tenure of the customers not leaving \n",
    "tenure_churn_no = df[df.Churn == \"No\"].tenure \n",
    "# find the tenure of the customers leaving \n",
    "tenure_churn_yes = df[df.Churn == \"Yes\"].tenure"
   ]
  },
  {
   "cell_type": "code",
   "execution_count": 11,
   "metadata": {},
   "outputs": [
    {
     "data": {
      "image/png": "[encoded data removed]",
      "text/plain": [
       "<Figure size 432x288 with 1 Axes>"
      ]
     },
     "metadata": {
      "needs_background": "light"
     },
     "output_type": "display_data"
    }
   ],
   "source": [
    "#plot the two\n",
    "\n",
    "plt.hist([tenure_churn_yes,tenure_churn_no], label=['Churn_Yes', 'Churn_No'])\n",
    "plt.xlabel=\"tenure\"\n",
    "plt.ylabel(\"Number of Customers\")\n",
    "plt.title(\"Customer Churn Prediction Based on Tenure\")\n",
    "plt.legend();"
   ]
  },
  {
   "cell_type": "markdown",
   "metadata": {},
   "source": [
    "From the chart, The MORE the tenure, the LESS number of customers leave. \n",
    "Or rather, Customer Churn DECREASES with an INCREASE in tenure."
   ]
  },
  {
   "cell_type": "code",
   "execution_count": 21,
   "metadata": {},
   "outputs": [],
   "source": [
    "# find the MonthlyCharges  of the customers not leaving \n",
    "MC_churn_no = df[df.Churn == \"No\"].MonthlyCharges  \n",
    "# find the MonthlyCharges  of the customers leaving \n",
    "MC_churn_yes = df[df.Churn == \"Yes\"].MonthlyCharges "
   ]
  },
  {
   "cell_type": "code",
   "execution_count": 22,
   "metadata": {},
   "outputs": [
    {
     "data": {
      "image/png": "[encoded data removed]",
      "text/plain": [
       "<Figure size 640x480 with 1 Axes>"
      ]
     },
     "metadata": {},
     "output_type": "display_data"
    }
   ],
   "source": [
    "plt.hist([MC_churn_yes,MC_churn_no], rwidth=0.95, label=['Churn_Yes', 'Churn_No'])\n",
    "plt.xlabel=\"MonthlyCharges\"\n",
    "plt.ylabel(\"Number of Customers\")\n",
    "plt.title(\"Customer Churn Prediction Based on Monthly Charges\")\n",
    "plt.legend();"
   ]
  },
  {
   "cell_type": "markdown",
   "metadata": {},
   "source": [
    "Monthly Charges between 70 and 100 registered the Highest Customer Churn Number of Customers."
   ]
  },
  {
   "cell_type": "code",
   "execution_count": 12,
   "metadata": {},
   "outputs": [],
   "source": [
    "# create a function to find the unique values in each column whose dtype is 'object'\n",
    "def print_unique_column_values(df):\n",
    "    for column in df:\n",
    "        if df[column].dtypes==\"object\":\n",
    "            print(f'{column} : {df[column].unique()}')"
   ]
  },
  {
   "cell_type": "code",
   "execution_count": 13,
   "metadata": {},
   "outputs": [
    {
     "data": {
      "text/html": [
       "<pre style=\"white-space:pre;overflow-x:auto;line-height:normal;font-family:Menlo,'DejaVu Sans Mono',consolas,'Courier New',monospace\">customerID : <span style=\"font-weight: bold\">[</span><span style=\"color: #008000; text-decoration-color: #008000\">'7590-VHVEG'</span> <span style=\"color: #008000; text-decoration-color: #008000\">'5575-GNVDE'</span> <span style=\"color: #008000; text-decoration-color: #008000\">'3668-QPYBK'</span> <span style=\"color: #808000; text-decoration-color: #808000\">...</span> <span style=\"color: #008000; text-decoration-color: #008000\">'4801-JZAZL'</span> <span style=\"color: #008000; text-decoration-color: #008000\">'8361-LTMKD'</span>\n",
       " <span style=\"color: #008000; text-decoration-color: #008000\">'3186-AJIEK'</span><span style=\"font-weight: bold\">]</span>\n",
       "</pre>\n"
      ],
      "text/plain": [
       "customerID : \u001b[1m[\u001b[0m\u001b[32m'7590-VHVEG'\u001b[0m \u001b[32m'5575-GNVDE'\u001b[0m \u001b[32m'3668-QPYBK'\u001b[0m \u001b[33m...\u001b[0m \u001b[32m'4801-JZAZL'\u001b[0m \u001b[32m'8361-LTMKD'\u001b[0m\n",
       " \u001b[32m'3186-AJIEK'\u001b[0m\u001b[1m]\u001b[0m\n"
      ]
     },
     "metadata": {},
     "output_type": "display_data"
    },
    {
     "data": {
      "text/html": [
       "<pre style=\"white-space:pre;overflow-x:auto;line-height:normal;font-family:Menlo,'DejaVu Sans Mono',consolas,'Courier New',monospace\">gender : <span style=\"font-weight: bold\">[</span><span style=\"color: #008000; text-decoration-color: #008000\">'Female'</span> <span style=\"color: #008000; text-decoration-color: #008000\">'Male'</span><span style=\"font-weight: bold\">]</span>\n",
       "</pre>\n"
      ],
      "text/plain": [
       "gender : \u001b[1m[\u001b[0m\u001b[32m'Female'\u001b[0m \u001b[32m'Male'\u001b[0m\u001b[1m]\u001b[0m\n"
      ]
     },
     "metadata": {},
     "output_type": "display_data"
    },
    {
     "data": {
      "text/html": [
       "<pre style=\"white-space:pre;overflow-x:auto;line-height:normal;font-family:Menlo,'DejaVu Sans Mono',consolas,'Courier New',monospace\">Partner : <span style=\"font-weight: bold\">[</span><span style=\"color: #008000; text-decoration-color: #008000\">'Yes'</span> <span style=\"color: #008000; text-decoration-color: #008000\">'No'</span><span style=\"font-weight: bold\">]</span>\n",
       "</pre>\n"
      ],
      "text/plain": [
       "Partner : \u001b[1m[\u001b[0m\u001b[32m'Yes'\u001b[0m \u001b[32m'No'\u001b[0m\u001b[1m]\u001b[0m\n"
      ]
     },
     "metadata": {},
     "output_type": "display_data"
    },
    {
     "data": {
      "text/html": [
       "<pre style=\"white-space:pre;overflow-x:auto;line-height:normal;font-family:Menlo,'DejaVu Sans Mono',consolas,'Courier New',monospace\">Dependents : <span style=\"font-weight: bold\">[</span><span style=\"color: #008000; text-decoration-color: #008000\">'No'</span> <span style=\"color: #008000; text-decoration-color: #008000\">'Yes'</span><span style=\"font-weight: bold\">]</span>\n",
       "</pre>\n"
      ],
      "text/plain": [
       "Dependents : \u001b[1m[\u001b[0m\u001b[32m'No'\u001b[0m \u001b[32m'Yes'\u001b[0m\u001b[1m]\u001b[0m\n"
      ]
     },
     "metadata": {},
     "output_type": "display_data"
    },
    {
     "data": {
      "text/html": [
       "<pre style=\"white-space:pre;overflow-x:auto;line-height:normal;font-family:Menlo,'DejaVu Sans Mono',consolas,'Courier New',monospace\">PhoneService : <span style=\"font-weight: bold\">[</span><span style=\"color: #008000; text-decoration-color: #008000\">'No'</span> <span style=\"color: #008000; text-decoration-color: #008000\">'Yes'</span><span style=\"font-weight: bold\">]</span>\n",
       "</pre>\n"
      ],
      "text/plain": [
       "PhoneService : \u001b[1m[\u001b[0m\u001b[32m'No'\u001b[0m \u001b[32m'Yes'\u001b[0m\u001b[1m]\u001b[0m\n"
      ]
     },
     "metadata": {},
     "output_type": "display_data"
    },
    {
     "data": {
      "text/html": [
       "<pre style=\"white-space:pre;overflow-x:auto;line-height:normal;font-family:Menlo,'DejaVu Sans Mono',consolas,'Courier New',monospace\">MultipleLines : <span style=\"font-weight: bold\">[</span><span style=\"color: #008000; text-decoration-color: #008000\">'No phone service'</span> <span style=\"color: #008000; text-decoration-color: #008000\">'No'</span> <span style=\"color: #008000; text-decoration-color: #008000\">'Yes'</span><span style=\"font-weight: bold\">]</span>\n",
       "</pre>\n"
      ],
      "text/plain": [
       "MultipleLines : \u001b[1m[\u001b[0m\u001b[32m'No phone service'\u001b[0m \u001b[32m'No'\u001b[0m \u001b[32m'Yes'\u001b[0m\u001b[1m]\u001b[0m\n"
      ]
     },
     "metadata": {},
     "output_type": "display_data"
    },
    {
     "data": {
      "text/html": [
       "<pre style=\"white-space:pre;overflow-x:auto;line-height:normal;font-family:Menlo,'DejaVu Sans Mono',consolas,'Courier New',monospace\">InternetService : <span style=\"font-weight: bold\">[</span><span style=\"color: #008000; text-decoration-color: #008000\">'DSL'</span> <span style=\"color: #008000; text-decoration-color: #008000\">'Fiber optic'</span> <span style=\"color: #008000; text-decoration-color: #008000\">'No'</span><span style=\"font-weight: bold\">]</span>\n",
       "</pre>\n"
      ],
      "text/plain": [
       "InternetService : \u001b[1m[\u001b[0m\u001b[32m'DSL'\u001b[0m \u001b[32m'Fiber optic'\u001b[0m \u001b[32m'No'\u001b[0m\u001b[1m]\u001b[0m\n"
      ]
     },
     "metadata": {},
     "output_type": "display_data"
    },
    {
     "data": {
      "text/html": [
       "<pre style=\"white-space:pre;overflow-x:auto;line-height:normal;font-family:Menlo,'DejaVu Sans Mono',consolas,'Courier New',monospace\">OnlineSecurity : <span style=\"font-weight: bold\">[</span><span style=\"color: #008000; text-decoration-color: #008000\">'No'</span> <span style=\"color: #008000; text-decoration-color: #008000\">'Yes'</span> <span style=\"color: #008000; text-decoration-color: #008000\">'No internet service'</span><span style=\"font-weight: bold\">]</span>\n",
       "</pre>\n"
      ],
      "text/plain": [
       "OnlineSecurity : \u001b[1m[\u001b[0m\u001b[32m'No'\u001b[0m \u001b[32m'Yes'\u001b[0m \u001b[32m'No internet service'\u001b[0m\u001b[1m]\u001b[0m\n"
      ]
     },
     "metadata": {},
     "output_type": "display_data"
    },
    {
     "data": {
      "text/html": [
       "<pre style=\"white-space:pre;overflow-x:auto;line-height:normal;font-family:Menlo,'DejaVu Sans Mono',consolas,'Courier New',monospace\">OnlineBackup : <span style=\"font-weight: bold\">[</span><span style=\"color: #008000; text-decoration-color: #008000\">'Yes'</span> <span style=\"color: #008000; text-decoration-color: #008000\">'No'</span> <span style=\"color: #008000; text-decoration-color: #008000\">'No internet service'</span><span style=\"font-weight: bold\">]</span>\n",
       "</pre>\n"
      ],
      "text/plain": [
       "OnlineBackup : \u001b[1m[\u001b[0m\u001b[32m'Yes'\u001b[0m \u001b[32m'No'\u001b[0m \u001b[32m'No internet service'\u001b[0m\u001b[1m]\u001b[0m\n"
      ]
     },
     "metadata": {},
     "output_type": "display_data"
    },
    {
     "data": {
      "text/html": [
       "<pre style=\"white-space:pre;overflow-x:auto;line-height:normal;font-family:Menlo,'DejaVu Sans Mono',consolas,'Courier New',monospace\">DeviceProtection : <span style=\"font-weight: bold\">[</span><span style=\"color: #008000; text-decoration-color: #008000\">'No'</span> <span style=\"color: #008000; text-decoration-color: #008000\">'Yes'</span> <span style=\"color: #008000; text-decoration-color: #008000\">'No internet service'</span><span style=\"font-weight: bold\">]</span>\n",
       "</pre>\n"
      ],
      "text/plain": [
       "DeviceProtection : \u001b[1m[\u001b[0m\u001b[32m'No'\u001b[0m \u001b[32m'Yes'\u001b[0m \u001b[32m'No internet service'\u001b[0m\u001b[1m]\u001b[0m\n"
      ]
     },
     "metadata": {},
     "output_type": "display_data"
    },
    {
     "data": {
      "text/html": [
       "<pre style=\"white-space:pre;overflow-x:auto;line-height:normal;font-family:Menlo,'DejaVu Sans Mono',consolas,'Courier New',monospace\">TechSupport : <span style=\"font-weight: bold\">[</span><span style=\"color: #008000; text-decoration-color: #008000\">'No'</span> <span style=\"color: #008000; text-decoration-color: #008000\">'Yes'</span> <span style=\"color: #008000; text-decoration-color: #008000\">'No internet service'</span><span style=\"font-weight: bold\">]</span>\n",
       "</pre>\n"
      ],
      "text/plain": [
       "TechSupport : \u001b[1m[\u001b[0m\u001b[32m'No'\u001b[0m \u001b[32m'Yes'\u001b[0m \u001b[32m'No internet service'\u001b[0m\u001b[1m]\u001b[0m\n"
      ]
     },
     "metadata": {},
     "output_type": "display_data"
    },
    {
     "data": {
      "text/html": [
       "<pre style=\"white-space:pre;overflow-x:auto;line-height:normal;font-family:Menlo,'DejaVu Sans Mono',consolas,'Courier New',monospace\">StreamingTV : <span style=\"font-weight: bold\">[</span><span style=\"color: #008000; text-decoration-color: #008000\">'No'</span> <span style=\"color: #008000; text-decoration-color: #008000\">'Yes'</span> <span style=\"color: #008000; text-decoration-color: #008000\">'No internet service'</span><span style=\"font-weight: bold\">]</span>\n",
       "</pre>\n"
      ],
      "text/plain": [
       "StreamingTV : \u001b[1m[\u001b[0m\u001b[32m'No'\u001b[0m \u001b[32m'Yes'\u001b[0m \u001b[32m'No internet service'\u001b[0m\u001b[1m]\u001b[0m\n"
      ]
     },
     "metadata": {},
     "output_type": "display_data"
    },
    {
     "data": {
      "text/html": [
       "<pre style=\"white-space:pre;overflow-x:auto;line-height:normal;font-family:Menlo,'DejaVu Sans Mono',consolas,'Courier New',monospace\">StreamingMovies : <span style=\"font-weight: bold\">[</span><span style=\"color: #008000; text-decoration-color: #008000\">'No'</span> <span style=\"color: #008000; text-decoration-color: #008000\">'Yes'</span> <span style=\"color: #008000; text-decoration-color: #008000\">'No internet service'</span><span style=\"font-weight: bold\">]</span>\n",
       "</pre>\n"
      ],
      "text/plain": [
       "StreamingMovies : \u001b[1m[\u001b[0m\u001b[32m'No'\u001b[0m \u001b[32m'Yes'\u001b[0m \u001b[32m'No internet service'\u001b[0m\u001b[1m]\u001b[0m\n"
      ]
     },
     "metadata": {},
     "output_type": "display_data"
    },
    {
     "data": {
      "text/html": [
       "<pre style=\"white-space:pre;overflow-x:auto;line-height:normal;font-family:Menlo,'DejaVu Sans Mono',consolas,'Courier New',monospace\">Contract : <span style=\"font-weight: bold\">[</span><span style=\"color: #008000; text-decoration-color: #008000\">'Month-to-month'</span> <span style=\"color: #008000; text-decoration-color: #008000\">'One year'</span> <span style=\"color: #008000; text-decoration-color: #008000\">'Two year'</span><span style=\"font-weight: bold\">]</span>\n",
       "</pre>\n"
      ],
      "text/plain": [
       "Contract : \u001b[1m[\u001b[0m\u001b[32m'Month-to-month'\u001b[0m \u001b[32m'One year'\u001b[0m \u001b[32m'Two year'\u001b[0m\u001b[1m]\u001b[0m\n"
      ]
     },
     "metadata": {},
     "output_type": "display_data"
    },
    {
     "data": {
      "text/html": [
       "<pre style=\"white-space:pre;overflow-x:auto;line-height:normal;font-family:Menlo,'DejaVu Sans Mono',consolas,'Courier New',monospace\">PaperlessBilling : <span style=\"font-weight: bold\">[</span><span style=\"color: #008000; text-decoration-color: #008000\">'Yes'</span> <span style=\"color: #008000; text-decoration-color: #008000\">'No'</span><span style=\"font-weight: bold\">]</span>\n",
       "</pre>\n"
      ],
      "text/plain": [
       "PaperlessBilling : \u001b[1m[\u001b[0m\u001b[32m'Yes'\u001b[0m \u001b[32m'No'\u001b[0m\u001b[1m]\u001b[0m\n"
      ]
     },
     "metadata": {},
     "output_type": "display_data"
    },
    {
     "data": {
      "text/html": [
       "<pre style=\"white-space:pre;overflow-x:auto;line-height:normal;font-family:Menlo,'DejaVu Sans Mono',consolas,'Courier New',monospace\">PaymentMethod : <span style=\"font-weight: bold\">[</span><span style=\"color: #008000; text-decoration-color: #008000\">'Electronic check'</span> <span style=\"color: #008000; text-decoration-color: #008000\">'Mailed check'</span> <span style=\"color: #008000; text-decoration-color: #008000\">'Bank transfer (automatic)'</span>\n",
       " <span style=\"color: #008000; text-decoration-color: #008000\">'Credit card (automatic)'</span><span style=\"font-weight: bold\">]</span>\n",
       "</pre>\n"
      ],
      "text/plain": [
       "PaymentMethod : \u001b[1m[\u001b[0m\u001b[32m'Electronic check'\u001b[0m \u001b[32m'Mailed check'\u001b[0m \u001b[32m'Bank transfer \u001b[0m\u001b[32m(\u001b[0m\u001b[32mautomatic\u001b[0m\u001b[32m)\u001b[0m\u001b[32m'\u001b[0m\n",
       " \u001b[32m'Credit card \u001b[0m\u001b[32m(\u001b[0m\u001b[32mautomatic\u001b[0m\u001b[32m)\u001b[0m\u001b[32m'\u001b[0m\u001b[1m]\u001b[0m\n"
      ]
     },
     "metadata": {},
     "output_type": "display_data"
    },
    {
     "data": {
      "text/html": [
       "<pre style=\"white-space:pre;overflow-x:auto;line-height:normal;font-family:Menlo,'DejaVu Sans Mono',consolas,'Courier New',monospace\">TotalCharges : <span style=\"font-weight: bold\">[</span><span style=\"color: #008000; text-decoration-color: #008000\">'29.85'</span> <span style=\"color: #008000; text-decoration-color: #008000\">'1889.5'</span> <span style=\"color: #008000; text-decoration-color: #008000\">'108.15'</span> <span style=\"color: #808000; text-decoration-color: #808000\">...</span> <span style=\"color: #008000; text-decoration-color: #008000\">'346.45'</span> <span style=\"color: #008000; text-decoration-color: #008000\">'306.6'</span> <span style=\"color: #008000; text-decoration-color: #008000\">'6844.5'</span><span style=\"font-weight: bold\">]</span>\n",
       "</pre>\n"
      ],
      "text/plain": [
       "TotalCharges : \u001b[1m[\u001b[0m\u001b[32m'29.85'\u001b[0m \u001b[32m'1889.5'\u001b[0m \u001b[32m'108.15'\u001b[0m \u001b[33m...\u001b[0m \u001b[32m'346.45'\u001b[0m \u001b[32m'306.6'\u001b[0m \u001b[32m'6844.5'\u001b[0m\u001b[1m]\u001b[0m\n"
      ]
     },
     "metadata": {},
     "output_type": "display_data"
    },
    {
     "data": {
      "text/html": [
       "<pre style=\"white-space:pre;overflow-x:auto;line-height:normal;font-family:Menlo,'DejaVu Sans Mono',consolas,'Courier New',monospace\">Churn : <span style=\"font-weight: bold\">[</span><span style=\"color: #008000; text-decoration-color: #008000\">'No'</span> <span style=\"color: #008000; text-decoration-color: #008000\">'Yes'</span><span style=\"font-weight: bold\">]</span>\n",
       "</pre>\n"
      ],
      "text/plain": [
       "Churn : \u001b[1m[\u001b[0m\u001b[32m'No'\u001b[0m \u001b[32m'Yes'\u001b[0m\u001b[1m]\u001b[0m\n"
      ]
     },
     "metadata": {},
     "output_type": "display_data"
    }
   ],
   "source": [
    "print_unique_column_values(df)"
   ]
  },
  {
   "cell_type": "markdown",
   "metadata": {},
   "source": [
    "From the Unique values, we find there's a series of 'No internet service, Yes, No'. Let's replace the 'No internet Service' and 'No phone service' with No."
   ]
  },
  {
   "cell_type": "code",
   "execution_count": 14,
   "metadata": {},
   "outputs": [],
   "source": [
    "df.replace('No internet service', 'No', inplace=True)\n",
    "df.replace('No phone service', 'No', inplace=True)"
   ]
  },
  {
   "cell_type": "code",
   "execution_count": 15,
   "metadata": {},
   "outputs": [
    {
     "data": {
      "text/html": [
       "<pre style=\"white-space:pre;overflow-x:auto;line-height:normal;font-family:Menlo,'DejaVu Sans Mono',consolas,'Courier New',monospace\">customerID : <span style=\"font-weight: bold\">[</span><span style=\"color: #008000; text-decoration-color: #008000\">'7590-VHVEG'</span> <span style=\"color: #008000; text-decoration-color: #008000\">'5575-GNVDE'</span> <span style=\"color: #008000; text-decoration-color: #008000\">'3668-QPYBK'</span> <span style=\"color: #808000; text-decoration-color: #808000\">...</span> <span style=\"color: #008000; text-decoration-color: #008000\">'4801-JZAZL'</span> <span style=\"color: #008000; text-decoration-color: #008000\">'8361-LTMKD'</span>\n",
       " <span style=\"color: #008000; text-decoration-color: #008000\">'3186-AJIEK'</span><span style=\"font-weight: bold\">]</span>\n",
       "</pre>\n"
      ],
      "text/plain": [
       "customerID : \u001b[1m[\u001b[0m\u001b[32m'7590-VHVEG'\u001b[0m \u001b[32m'5575-GNVDE'\u001b[0m \u001b[32m'3668-QPYBK'\u001b[0m \u001b[33m...\u001b[0m \u001b[32m'4801-JZAZL'\u001b[0m \u001b[32m'8361-LTMKD'\u001b[0m\n",
       " \u001b[32m'3186-AJIEK'\u001b[0m\u001b[1m]\u001b[0m\n"
      ]
     },
     "metadata": {},
     "output_type": "display_data"
    },
    {
     "data": {
      "text/html": [
       "<pre style=\"white-space:pre;overflow-x:auto;line-height:normal;font-family:Menlo,'DejaVu Sans Mono',consolas,'Courier New',monospace\">gender : <span style=\"font-weight: bold\">[</span><span style=\"color: #008000; text-decoration-color: #008000\">'Female'</span> <span style=\"color: #008000; text-decoration-color: #008000\">'Male'</span><span style=\"font-weight: bold\">]</span>\n",
       "</pre>\n"
      ],
      "text/plain": [
       "gender : \u001b[1m[\u001b[0m\u001b[32m'Female'\u001b[0m \u001b[32m'Male'\u001b[0m\u001b[1m]\u001b[0m\n"
      ]
     },
     "metadata": {},
     "output_type": "display_data"
    },
    {
     "data": {
      "text/html": [
       "<pre style=\"white-space:pre;overflow-x:auto;line-height:normal;font-family:Menlo,'DejaVu Sans Mono',consolas,'Courier New',monospace\">Partner : <span style=\"font-weight: bold\">[</span><span style=\"color: #008000; text-decoration-color: #008000\">'Yes'</span> <span style=\"color: #008000; text-decoration-color: #008000\">'No'</span><span style=\"font-weight: bold\">]</span>\n",
       "</pre>\n"
      ],
      "text/plain": [
       "Partner : \u001b[1m[\u001b[0m\u001b[32m'Yes'\u001b[0m \u001b[32m'No'\u001b[0m\u001b[1m]\u001b[0m\n"
      ]
     },
     "metadata": {},
     "output_type": "display_data"
    },
    {
     "data": {
      "text/html": [
       "<pre style=\"white-space:pre;overflow-x:auto;line-height:normal;font-family:Menlo,'DejaVu Sans Mono',consolas,'Courier New',monospace\">Dependents : <span style=\"font-weight: bold\">[</span><span style=\"color: #008000; text-decoration-color: #008000\">'No'</span> <span style=\"color: #008000; text-decoration-color: #008000\">'Yes'</span><span style=\"font-weight: bold\">]</span>\n",
       "</pre>\n"
      ],
      "text/plain": [
       "Dependents : \u001b[1m[\u001b[0m\u001b[32m'No'\u001b[0m \u001b[32m'Yes'\u001b[0m\u001b[1m]\u001b[0m\n"
      ]
     },
     "metadata": {},
     "output_type": "display_data"
    },
    {
     "data": {
      "text/html": [
       "<pre style=\"white-space:pre;overflow-x:auto;line-height:normal;font-family:Menlo,'DejaVu Sans Mono',consolas,'Courier New',monospace\">PhoneService : <span style=\"font-weight: bold\">[</span><span style=\"color: #008000; text-decoration-color: #008000\">'No'</span> <span style=\"color: #008000; text-decoration-color: #008000\">'Yes'</span><span style=\"font-weight: bold\">]</span>\n",
       "</pre>\n"
      ],
      "text/plain": [
       "PhoneService : \u001b[1m[\u001b[0m\u001b[32m'No'\u001b[0m \u001b[32m'Yes'\u001b[0m\u001b[1m]\u001b[0m\n"
      ]
     },
     "metadata": {},
     "output_type": "display_data"
    },
    {
     "data": {
      "text/html": [
       "<pre style=\"white-space:pre;overflow-x:auto;line-height:normal;font-family:Menlo,'DejaVu Sans Mono',consolas,'Courier New',monospace\">MultipleLines : <span style=\"font-weight: bold\">[</span><span style=\"color: #008000; text-decoration-color: #008000\">'No'</span> <span style=\"color: #008000; text-decoration-color: #008000\">'Yes'</span><span style=\"font-weight: bold\">]</span>\n",
       "</pre>\n"
      ],
      "text/plain": [
       "MultipleLines : \u001b[1m[\u001b[0m\u001b[32m'No'\u001b[0m \u001b[32m'Yes'\u001b[0m\u001b[1m]\u001b[0m\n"
      ]
     },
     "metadata": {},
     "output_type": "display_data"
    },
    {
     "data": {
      "text/html": [
       "<pre style=\"white-space:pre;overflow-x:auto;line-height:normal;font-family:Menlo,'DejaVu Sans Mono',consolas,'Courier New',monospace\">InternetService : <span style=\"font-weight: bold\">[</span><span style=\"color: #008000; text-decoration-color: #008000\">'DSL'</span> <span style=\"color: #008000; text-decoration-color: #008000\">'Fiber optic'</span> <span style=\"color: #008000; text-decoration-color: #008000\">'No'</span><span style=\"font-weight: bold\">]</span>\n",
       "</pre>\n"
      ],
      "text/plain": [
       "InternetService : \u001b[1m[\u001b[0m\u001b[32m'DSL'\u001b[0m \u001b[32m'Fiber optic'\u001b[0m \u001b[32m'No'\u001b[0m\u001b[1m]\u001b[0m\n"
      ]
     },
     "metadata": {},
     "output_type": "display_data"
    },
    {
     "data": {
      "text/html": [
       "<pre style=\"white-space:pre;overflow-x:auto;line-height:normal;font-family:Menlo,'DejaVu Sans Mono',consolas,'Courier New',monospace\">OnlineSecurity : <span style=\"font-weight: bold\">[</span><span style=\"color: #008000; text-decoration-color: #008000\">'No'</span> <span style=\"color: #008000; text-decoration-color: #008000\">'Yes'</span><span style=\"font-weight: bold\">]</span>\n",
       "</pre>\n"
      ],
      "text/plain": [
       "OnlineSecurity : \u001b[1m[\u001b[0m\u001b[32m'No'\u001b[0m \u001b[32m'Yes'\u001b[0m\u001b[1m]\u001b[0m\n"
      ]
     },
     "metadata": {},
     "output_type": "display_data"
    },
    {
     "data": {
      "text/html": [
       "<pre style=\"white-space:pre;overflow-x:auto;line-height:normal;font-family:Menlo,'DejaVu Sans Mono',consolas,'Courier New',monospace\">OnlineBackup : <span style=\"font-weight: bold\">[</span><span style=\"color: #008000; text-decoration-color: #008000\">'Yes'</span> <span style=\"color: #008000; text-decoration-color: #008000\">'No'</span><span style=\"font-weight: bold\">]</span>\n",
       "</pre>\n"
      ],
      "text/plain": [
       "OnlineBackup : \u001b[1m[\u001b[0m\u001b[32m'Yes'\u001b[0m \u001b[32m'No'\u001b[0m\u001b[1m]\u001b[0m\n"
      ]
     },
     "metadata": {},
     "output_type": "display_data"
    },
    {
     "data": {
      "text/html": [
       "<pre style=\"white-space:pre;overflow-x:auto;line-height:normal;font-family:Menlo,'DejaVu Sans Mono',consolas,'Courier New',monospace\">DeviceProtection : <span style=\"font-weight: bold\">[</span><span style=\"color: #008000; text-decoration-color: #008000\">'No'</span> <span style=\"color: #008000; text-decoration-color: #008000\">'Yes'</span><span style=\"font-weight: bold\">]</span>\n",
       "</pre>\n"
      ],
      "text/plain": [
       "DeviceProtection : \u001b[1m[\u001b[0m\u001b[32m'No'\u001b[0m \u001b[32m'Yes'\u001b[0m\u001b[1m]\u001b[0m\n"
      ]
     },
     "metadata": {},
     "output_type": "display_data"
    },
    {
     "data": {
      "text/html": [
       "<pre style=\"white-space:pre;overflow-x:auto;line-height:normal;font-family:Menlo,'DejaVu Sans Mono',consolas,'Courier New',monospace\">TechSupport : <span style=\"font-weight: bold\">[</span><span style=\"color: #008000; text-decoration-color: #008000\">'No'</span> <span style=\"color: #008000; text-decoration-color: #008000\">'Yes'</span><span style=\"font-weight: bold\">]</span>\n",
       "</pre>\n"
      ],
      "text/plain": [
       "TechSupport : \u001b[1m[\u001b[0m\u001b[32m'No'\u001b[0m \u001b[32m'Yes'\u001b[0m\u001b[1m]\u001b[0m\n"
      ]
     },
     "metadata": {},
     "output_type": "display_data"
    },
    {
     "data": {
      "text/html": [
       "<pre style=\"white-space:pre;overflow-x:auto;line-height:normal;font-family:Menlo,'DejaVu Sans Mono',consolas,'Courier New',monospace\">StreamingTV : <span style=\"font-weight: bold\">[</span><span style=\"color: #008000; text-decoration-color: #008000\">'No'</span> <span style=\"color: #008000; text-decoration-color: #008000\">'Yes'</span><span style=\"font-weight: bold\">]</span>\n",
       "</pre>\n"
      ],
      "text/plain": [
       "StreamingTV : \u001b[1m[\u001b[0m\u001b[32m'No'\u001b[0m \u001b[32m'Yes'\u001b[0m\u001b[1m]\u001b[0m\n"
      ]
     },
     "metadata": {},
     "output_type": "display_data"
    },
    {
     "data": {
      "text/html": [
       "<pre style=\"white-space:pre;overflow-x:auto;line-height:normal;font-family:Menlo,'DejaVu Sans Mono',consolas,'Courier New',monospace\">StreamingMovies : <span style=\"font-weight: bold\">[</span><span style=\"color: #008000; text-decoration-color: #008000\">'No'</span> <span style=\"color: #008000; text-decoration-color: #008000\">'Yes'</span><span style=\"font-weight: bold\">]</span>\n",
       "</pre>\n"
      ],
      "text/plain": [
       "StreamingMovies : \u001b[1m[\u001b[0m\u001b[32m'No'\u001b[0m \u001b[32m'Yes'\u001b[0m\u001b[1m]\u001b[0m\n"
      ]
     },
     "metadata": {},
     "output_type": "display_data"
    },
    {
     "data": {
      "text/html": [
       "<pre style=\"white-space:pre;overflow-x:auto;line-height:normal;font-family:Menlo,'DejaVu Sans Mono',consolas,'Courier New',monospace\">Contract : <span style=\"font-weight: bold\">[</span><span style=\"color: #008000; text-decoration-color: #008000\">'Month-to-month'</span> <span style=\"color: #008000; text-decoration-color: #008000\">'One year'</span> <span style=\"color: #008000; text-decoration-color: #008000\">'Two year'</span><span style=\"font-weight: bold\">]</span>\n",
       "</pre>\n"
      ],
      "text/plain": [
       "Contract : \u001b[1m[\u001b[0m\u001b[32m'Month-to-month'\u001b[0m \u001b[32m'One year'\u001b[0m \u001b[32m'Two year'\u001b[0m\u001b[1m]\u001b[0m\n"
      ]
     },
     "metadata": {},
     "output_type": "display_data"
    },
    {
     "data": {
      "text/html": [
       "<pre style=\"white-space:pre;overflow-x:auto;line-height:normal;font-family:Menlo,'DejaVu Sans Mono',consolas,'Courier New',monospace\">PaperlessBilling : <span style=\"font-weight: bold\">[</span><span style=\"color: #008000; text-decoration-color: #008000\">'Yes'</span> <span style=\"color: #008000; text-decoration-color: #008000\">'No'</span><span style=\"font-weight: bold\">]</span>\n",
       "</pre>\n"
      ],
      "text/plain": [
       "PaperlessBilling : \u001b[1m[\u001b[0m\u001b[32m'Yes'\u001b[0m \u001b[32m'No'\u001b[0m\u001b[1m]\u001b[0m\n"
      ]
     },
     "metadata": {},
     "output_type": "display_data"
    },
    {
     "data": {
      "text/html": [
       "<pre style=\"white-space:pre;overflow-x:auto;line-height:normal;font-family:Menlo,'DejaVu Sans Mono',consolas,'Courier New',monospace\">PaymentMethod : <span style=\"font-weight: bold\">[</span><span style=\"color: #008000; text-decoration-color: #008000\">'Electronic check'</span> <span style=\"color: #008000; text-decoration-color: #008000\">'Mailed check'</span> <span style=\"color: #008000; text-decoration-color: #008000\">'Bank transfer (automatic)'</span>\n",
       " <span style=\"color: #008000; text-decoration-color: #008000\">'Credit card (automatic)'</span><span style=\"font-weight: bold\">]</span>\n",
       "</pre>\n"
      ],
      "text/plain": [
       "PaymentMethod : \u001b[1m[\u001b[0m\u001b[32m'Electronic check'\u001b[0m \u001b[32m'Mailed check'\u001b[0m \u001b[32m'Bank transfer \u001b[0m\u001b[32m(\u001b[0m\u001b[32mautomatic\u001b[0m\u001b[32m)\u001b[0m\u001b[32m'\u001b[0m\n",
       " \u001b[32m'Credit card \u001b[0m\u001b[32m(\u001b[0m\u001b[32mautomatic\u001b[0m\u001b[32m)\u001b[0m\u001b[32m'\u001b[0m\u001b[1m]\u001b[0m\n"
      ]
     },
     "metadata": {},
     "output_type": "display_data"
    },
    {
     "data": {
      "text/html": [
       "<pre style=\"white-space:pre;overflow-x:auto;line-height:normal;font-family:Menlo,'DejaVu Sans Mono',consolas,'Courier New',monospace\">TotalCharges : <span style=\"font-weight: bold\">[</span><span style=\"color: #008000; text-decoration-color: #008000\">'29.85'</span> <span style=\"color: #008000; text-decoration-color: #008000\">'1889.5'</span> <span style=\"color: #008000; text-decoration-color: #008000\">'108.15'</span> <span style=\"color: #808000; text-decoration-color: #808000\">...</span> <span style=\"color: #008000; text-decoration-color: #008000\">'346.45'</span> <span style=\"color: #008000; text-decoration-color: #008000\">'306.6'</span> <span style=\"color: #008000; text-decoration-color: #008000\">'6844.5'</span><span style=\"font-weight: bold\">]</span>\n",
       "</pre>\n"
      ],
      "text/plain": [
       "TotalCharges : \u001b[1m[\u001b[0m\u001b[32m'29.85'\u001b[0m \u001b[32m'1889.5'\u001b[0m \u001b[32m'108.15'\u001b[0m \u001b[33m...\u001b[0m \u001b[32m'346.45'\u001b[0m \u001b[32m'306.6'\u001b[0m \u001b[32m'6844.5'\u001b[0m\u001b[1m]\u001b[0m\n"
      ]
     },
     "metadata": {},
     "output_type": "display_data"
    },
    {
     "data": {
      "text/html": [
       "<pre style=\"white-space:pre;overflow-x:auto;line-height:normal;font-family:Menlo,'DejaVu Sans Mono',consolas,'Courier New',monospace\">Churn : <span style=\"font-weight: bold\">[</span><span style=\"color: #008000; text-decoration-color: #008000\">'No'</span> <span style=\"color: #008000; text-decoration-color: #008000\">'Yes'</span><span style=\"font-weight: bold\">]</span>\n",
       "</pre>\n"
      ],
      "text/plain": [
       "Churn : \u001b[1m[\u001b[0m\u001b[32m'No'\u001b[0m \u001b[32m'Yes'\u001b[0m\u001b[1m]\u001b[0m\n"
      ]
     },
     "metadata": {},
     "output_type": "display_data"
    }
   ],
   "source": [
    "print_unique_column_values(df)"
   ]
  },
  {
   "cell_type": "code",
   "execution_count": 16,
   "metadata": {},
   "outputs": [],
   "source": [
    "yes_no_cols = ['Partner', 'Dependents', 'PhoneService', 'MultipleLines', 'OnlineSecurity', 'OnlineBackup', 'DeviceProtection', \n",
    "               'TechSupport', 'StreamingTV', 'StreamingMovies', 'PaperlessBilling','Churn']\n",
    "for cols in yes_no_cols:\n",
    "        df[cols].replace({'Yes': 1, 'No': 0}, inplace= True)"
   ]
  },
  {
   "cell_type": "code",
   "execution_count": 17,
   "metadata": {},
   "outputs": [
    {
     "data": {
      "text/html": [
       "<pre style=\"white-space:pre;overflow-x:auto;line-height:normal;font-family:Menlo,'DejaVu Sans Mono',consolas,'Courier New',monospace\">customerID : <span style=\"font-weight: bold\">[</span><span style=\"color: #008000; text-decoration-color: #008000\">'7590-VHVEG'</span> <span style=\"color: #008000; text-decoration-color: #008000\">'5575-GNVDE'</span> <span style=\"color: #008000; text-decoration-color: #008000\">'3668-QPYBK'</span> <span style=\"color: #808000; text-decoration-color: #808000\">...</span> <span style=\"color: #008000; text-decoration-color: #008000\">'4801-JZAZL'</span> <span style=\"color: #008000; text-decoration-color: #008000\">'8361-LTMKD'</span>\n",
       " <span style=\"color: #008000; text-decoration-color: #008000\">'3186-AJIEK'</span><span style=\"font-weight: bold\">]</span>\n",
       "</pre>\n"
      ],
      "text/plain": [
       "customerID : \u001b[1m[\u001b[0m\u001b[32m'7590-VHVEG'\u001b[0m \u001b[32m'5575-GNVDE'\u001b[0m \u001b[32m'3668-QPYBK'\u001b[0m \u001b[33m...\u001b[0m \u001b[32m'4801-JZAZL'\u001b[0m \u001b[32m'8361-LTMKD'\u001b[0m\n",
       " \u001b[32m'3186-AJIEK'\u001b[0m\u001b[1m]\u001b[0m\n"
      ]
     },
     "metadata": {},
     "output_type": "display_data"
    },
    {
     "data": {
      "text/html": [
       "<pre style=\"white-space:pre;overflow-x:auto;line-height:normal;font-family:Menlo,'DejaVu Sans Mono',consolas,'Courier New',monospace\">gender : <span style=\"font-weight: bold\">[</span><span style=\"color: #008000; text-decoration-color: #008000\">'Female'</span> <span style=\"color: #008000; text-decoration-color: #008000\">'Male'</span><span style=\"font-weight: bold\">]</span>\n",
       "</pre>\n"
      ],
      "text/plain": [
       "gender : \u001b[1m[\u001b[0m\u001b[32m'Female'\u001b[0m \u001b[32m'Male'\u001b[0m\u001b[1m]\u001b[0m\n"
      ]
     },
     "metadata": {},
     "output_type": "display_data"
    },
    {
     "data": {
      "text/html": [
       "<pre style=\"white-space:pre;overflow-x:auto;line-height:normal;font-family:Menlo,'DejaVu Sans Mono',consolas,'Courier New',monospace\">SeniorCitizen : <span style=\"font-weight: bold\">[</span><span style=\"color: #008080; text-decoration-color: #008080; font-weight: bold\">0</span> <span style=\"color: #008080; text-decoration-color: #008080; font-weight: bold\">1</span><span style=\"font-weight: bold\">]</span>\n",
       "</pre>\n"
      ],
      "text/plain": [
       "SeniorCitizen : \u001b[1m[\u001b[0m\u001b[1;36m0\u001b[0m \u001b[1;36m1\u001b[0m\u001b[1m]\u001b[0m\n"
      ]
     },
     "metadata": {},
     "output_type": "display_data"
    },
    {
     "data": {
      "text/html": [
       "<pre style=\"white-space:pre;overflow-x:auto;line-height:normal;font-family:Menlo,'DejaVu Sans Mono',consolas,'Courier New',monospace\">Partner : <span style=\"font-weight: bold\">[</span><span style=\"color: #008080; text-decoration-color: #008080; font-weight: bold\">1</span> <span style=\"color: #008080; text-decoration-color: #008080; font-weight: bold\">0</span><span style=\"font-weight: bold\">]</span>\n",
       "</pre>\n"
      ],
      "text/plain": [
       "Partner : \u001b[1m[\u001b[0m\u001b[1;36m1\u001b[0m \u001b[1;36m0\u001b[0m\u001b[1m]\u001b[0m\n"
      ]
     },
     "metadata": {},
     "output_type": "display_data"
    },
    {
     "data": {
      "text/html": [
       "<pre style=\"white-space:pre;overflow-x:auto;line-height:normal;font-family:Menlo,'DejaVu Sans Mono',consolas,'Courier New',monospace\">Dependents : <span style=\"font-weight: bold\">[</span><span style=\"color: #008080; text-decoration-color: #008080; font-weight: bold\">0</span> <span style=\"color: #008080; text-decoration-color: #008080; font-weight: bold\">1</span><span style=\"font-weight: bold\">]</span>\n",
       "</pre>\n"
      ],
      "text/plain": [
       "Dependents : \u001b[1m[\u001b[0m\u001b[1;36m0\u001b[0m \u001b[1;36m1\u001b[0m\u001b[1m]\u001b[0m\n"
      ]
     },
     "metadata": {},
     "output_type": "display_data"
    },
    {
     "data": {
      "text/html": [
       "<pre style=\"white-space:pre;overflow-x:auto;line-height:normal;font-family:Menlo,'DejaVu Sans Mono',consolas,'Courier New',monospace\">tenure : <span style=\"font-weight: bold\">[</span> <span style=\"color: #008080; text-decoration-color: #008080; font-weight: bold\">1</span> <span style=\"color: #008080; text-decoration-color: #008080; font-weight: bold\">34</span>  <span style=\"color: #008080; text-decoration-color: #008080; font-weight: bold\">2</span> <span style=\"color: #008080; text-decoration-color: #008080; font-weight: bold\">45</span>  <span style=\"color: #008080; text-decoration-color: #008080; font-weight: bold\">8</span> <span style=\"color: #008080; text-decoration-color: #008080; font-weight: bold\">22</span> <span style=\"color: #008080; text-decoration-color: #008080; font-weight: bold\">10</span> <span style=\"color: #008080; text-decoration-color: #008080; font-weight: bold\">28</span> <span style=\"color: #008080; text-decoration-color: #008080; font-weight: bold\">62</span> <span style=\"color: #008080; text-decoration-color: #008080; font-weight: bold\">13</span> <span style=\"color: #008080; text-decoration-color: #008080; font-weight: bold\">16</span> <span style=\"color: #008080; text-decoration-color: #008080; font-weight: bold\">58</span> <span style=\"color: #008080; text-decoration-color: #008080; font-weight: bold\">49</span> <span style=\"color: #008080; text-decoration-color: #008080; font-weight: bold\">25</span> <span style=\"color: #008080; text-decoration-color: #008080; font-weight: bold\">69</span> <span style=\"color: #008080; text-decoration-color: #008080; font-weight: bold\">52</span> <span style=\"color: #008080; text-decoration-color: #008080; font-weight: bold\">71</span> <span style=\"color: #008080; text-decoration-color: #008080; font-weight: bold\">21</span> <span style=\"color: #008080; text-decoration-color: #008080; font-weight: bold\">12</span> <span style=\"color: #008080; text-decoration-color: #008080; font-weight: bold\">30</span> <span style=\"color: #008080; text-decoration-color: #008080; font-weight: bold\">47</span> <span style=\"color: #008080; text-decoration-color: #008080; font-weight: bold\">72</span> <span style=\"color: #008080; text-decoration-color: #008080; font-weight: bold\">17</span> <span style=\"color: #008080; text-decoration-color: #008080; font-weight: bold\">27</span>\n",
       "  <span style=\"color: #008080; text-decoration-color: #008080; font-weight: bold\">5</span> <span style=\"color: #008080; text-decoration-color: #008080; font-weight: bold\">46</span> <span style=\"color: #008080; text-decoration-color: #008080; font-weight: bold\">11</span> <span style=\"color: #008080; text-decoration-color: #008080; font-weight: bold\">70</span> <span style=\"color: #008080; text-decoration-color: #008080; font-weight: bold\">63</span> <span style=\"color: #008080; text-decoration-color: #008080; font-weight: bold\">43</span> <span style=\"color: #008080; text-decoration-color: #008080; font-weight: bold\">15</span> <span style=\"color: #008080; text-decoration-color: #008080; font-weight: bold\">60</span> <span style=\"color: #008080; text-decoration-color: #008080; font-weight: bold\">18</span> <span style=\"color: #008080; text-decoration-color: #008080; font-weight: bold\">66</span>  <span style=\"color: #008080; text-decoration-color: #008080; font-weight: bold\">9</span>  <span style=\"color: #008080; text-decoration-color: #008080; font-weight: bold\">3</span> <span style=\"color: #008080; text-decoration-color: #008080; font-weight: bold\">31</span> <span style=\"color: #008080; text-decoration-color: #008080; font-weight: bold\">50</span> <span style=\"color: #008080; text-decoration-color: #008080; font-weight: bold\">64</span> <span style=\"color: #008080; text-decoration-color: #008080; font-weight: bold\">56</span>  <span style=\"color: #008080; text-decoration-color: #008080; font-weight: bold\">7</span> <span style=\"color: #008080; text-decoration-color: #008080; font-weight: bold\">42</span> <span style=\"color: #008080; text-decoration-color: #008080; font-weight: bold\">35</span> <span style=\"color: #008080; text-decoration-color: #008080; font-weight: bold\">48</span> <span style=\"color: #008080; text-decoration-color: #008080; font-weight: bold\">29</span> <span style=\"color: #008080; text-decoration-color: #008080; font-weight: bold\">65</span> <span style=\"color: #008080; text-decoration-color: #008080; font-weight: bold\">38</span> <span style=\"color: #008080; text-decoration-color: #008080; font-weight: bold\">68</span>\n",
       " <span style=\"color: #008080; text-decoration-color: #008080; font-weight: bold\">32</span> <span style=\"color: #008080; text-decoration-color: #008080; font-weight: bold\">55</span> <span style=\"color: #008080; text-decoration-color: #008080; font-weight: bold\">37</span> <span style=\"color: #008080; text-decoration-color: #008080; font-weight: bold\">36</span> <span style=\"color: #008080; text-decoration-color: #008080; font-weight: bold\">41</span>  <span style=\"color: #008080; text-decoration-color: #008080; font-weight: bold\">6</span>  <span style=\"color: #008080; text-decoration-color: #008080; font-weight: bold\">4</span> <span style=\"color: #008080; text-decoration-color: #008080; font-weight: bold\">33</span> <span style=\"color: #008080; text-decoration-color: #008080; font-weight: bold\">67</span> <span style=\"color: #008080; text-decoration-color: #008080; font-weight: bold\">23</span> <span style=\"color: #008080; text-decoration-color: #008080; font-weight: bold\">57</span> <span style=\"color: #008080; text-decoration-color: #008080; font-weight: bold\">61</span> <span style=\"color: #008080; text-decoration-color: #008080; font-weight: bold\">14</span> <span style=\"color: #008080; text-decoration-color: #008080; font-weight: bold\">20</span> <span style=\"color: #008080; text-decoration-color: #008080; font-weight: bold\">53</span> <span style=\"color: #008080; text-decoration-color: #008080; font-weight: bold\">40</span> <span style=\"color: #008080; text-decoration-color: #008080; font-weight: bold\">59</span> <span style=\"color: #008080; text-decoration-color: #008080; font-weight: bold\">24</span> <span style=\"color: #008080; text-decoration-color: #008080; font-weight: bold\">44</span> <span style=\"color: #008080; text-decoration-color: #008080; font-weight: bold\">19</span> <span style=\"color: #008080; text-decoration-color: #008080; font-weight: bold\">54</span> <span style=\"color: #008080; text-decoration-color: #008080; font-weight: bold\">51</span> <span style=\"color: #008080; text-decoration-color: #008080; font-weight: bold\">26</span> <span style=\"color: #008080; text-decoration-color: #008080; font-weight: bold\">39</span><span style=\"font-weight: bold\">]</span>\n",
       "</pre>\n"
      ],
      "text/plain": [
       "tenure : \u001b[1m[\u001b[0m \u001b[1;36m1\u001b[0m \u001b[1;36m34\u001b[0m  \u001b[1;36m2\u001b[0m \u001b[1;36m45\u001b[0m  \u001b[1;36m8\u001b[0m \u001b[1;36m22\u001b[0m \u001b[1;36m10\u001b[0m \u001b[1;36m28\u001b[0m \u001b[1;36m62\u001b[0m \u001b[1;36m13\u001b[0m \u001b[1;36m16\u001b[0m \u001b[1;36m58\u001b[0m \u001b[1;36m49\u001b[0m \u001b[1;36m25\u001b[0m \u001b[1;36m69\u001b[0m \u001b[1;36m52\u001b[0m \u001b[1;36m71\u001b[0m \u001b[1;36m21\u001b[0m \u001b[1;36m12\u001b[0m \u001b[1;36m30\u001b[0m \u001b[1;36m47\u001b[0m \u001b[1;36m72\u001b[0m \u001b[1;36m17\u001b[0m \u001b[1;36m27\u001b[0m\n",
       "  \u001b[1;36m5\u001b[0m \u001b[1;36m46\u001b[0m \u001b[1;36m11\u001b[0m \u001b[1;36m70\u001b[0m \u001b[1;36m63\u001b[0m \u001b[1;36m43\u001b[0m \u001b[1;36m15\u001b[0m \u001b[1;36m60\u001b[0m \u001b[1;36m18\u001b[0m \u001b[1;36m66\u001b[0m  \u001b[1;36m9\u001b[0m  \u001b[1;36m3\u001b[0m \u001b[1;36m31\u001b[0m \u001b[1;36m50\u001b[0m \u001b[1;36m64\u001b[0m \u001b[1;36m56\u001b[0m  \u001b[1;36m7\u001b[0m \u001b[1;36m42\u001b[0m \u001b[1;36m35\u001b[0m \u001b[1;36m48\u001b[0m \u001b[1;36m29\u001b[0m \u001b[1;36m65\u001b[0m \u001b[1;36m38\u001b[0m \u001b[1;36m68\u001b[0m\n",
       " \u001b[1;36m32\u001b[0m \u001b[1;36m55\u001b[0m \u001b[1;36m37\u001b[0m \u001b[1;36m36\u001b[0m \u001b[1;36m41\u001b[0m  \u001b[1;36m6\u001b[0m  \u001b[1;36m4\u001b[0m \u001b[1;36m33\u001b[0m \u001b[1;36m67\u001b[0m \u001b[1;36m23\u001b[0m \u001b[1;36m57\u001b[0m \u001b[1;36m61\u001b[0m \u001b[1;36m14\u001b[0m \u001b[1;36m20\u001b[0m \u001b[1;36m53\u001b[0m \u001b[1;36m40\u001b[0m \u001b[1;36m59\u001b[0m \u001b[1;36m24\u001b[0m \u001b[1;36m44\u001b[0m \u001b[1;36m19\u001b[0m \u001b[1;36m54\u001b[0m \u001b[1;36m51\u001b[0m \u001b[1;36m26\u001b[0m \u001b[1;36m39\u001b[0m\u001b[1m]\u001b[0m\n"
      ]
     },
     "metadata": {},
     "output_type": "display_data"
    },
    {
     "data": {
      "text/html": [
       "<pre style=\"white-space:pre;overflow-x:auto;line-height:normal;font-family:Menlo,'DejaVu Sans Mono',consolas,'Courier New',monospace\">PhoneService : <span style=\"font-weight: bold\">[</span><span style=\"color: #008080; text-decoration-color: #008080; font-weight: bold\">0</span> <span style=\"color: #008080; text-decoration-color: #008080; font-weight: bold\">1</span><span style=\"font-weight: bold\">]</span>\n",
       "</pre>\n"
      ],
      "text/plain": [
       "PhoneService : \u001b[1m[\u001b[0m\u001b[1;36m0\u001b[0m \u001b[1;36m1\u001b[0m\u001b[1m]\u001b[0m\n"
      ]
     },
     "metadata": {},
     "output_type": "display_data"
    },
    {
     "data": {
      "text/html": [
       "<pre style=\"white-space:pre;overflow-x:auto;line-height:normal;font-family:Menlo,'DejaVu Sans Mono',consolas,'Courier New',monospace\">MultipleLines : <span style=\"font-weight: bold\">[</span><span style=\"color: #008080; text-decoration-color: #008080; font-weight: bold\">0</span> <span style=\"color: #008080; text-decoration-color: #008080; font-weight: bold\">1</span><span style=\"font-weight: bold\">]</span>\n",
       "</pre>\n"
      ],
      "text/plain": [
       "MultipleLines : \u001b[1m[\u001b[0m\u001b[1;36m0\u001b[0m \u001b[1;36m1\u001b[0m\u001b[1m]\u001b[0m\n"
      ]
     },
     "metadata": {},
     "output_type": "display_data"
    },
    {
     "data": {
      "text/html": [
       "<pre style=\"white-space:pre;overflow-x:auto;line-height:normal;font-family:Menlo,'DejaVu Sans Mono',consolas,'Courier New',monospace\">InternetService : <span style=\"font-weight: bold\">[</span><span style=\"color: #008000; text-decoration-color: #008000\">'DSL'</span> <span style=\"color: #008000; text-decoration-color: #008000\">'Fiber optic'</span> <span style=\"color: #008000; text-decoration-color: #008000\">'No'</span><span style=\"font-weight: bold\">]</span>\n",
       "</pre>\n"
      ],
      "text/plain": [
       "InternetService : \u001b[1m[\u001b[0m\u001b[32m'DSL'\u001b[0m \u001b[32m'Fiber optic'\u001b[0m \u001b[32m'No'\u001b[0m\u001b[1m]\u001b[0m\n"
      ]
     },
     "metadata": {},
     "output_type": "display_data"
    },
    {
     "data": {
      "text/html": [
       "<pre style=\"white-space:pre;overflow-x:auto;line-height:normal;font-family:Menlo,'DejaVu Sans Mono',consolas,'Courier New',monospace\">OnlineSecurity : <span style=\"font-weight: bold\">[</span><span style=\"color: #008080; text-decoration-color: #008080; font-weight: bold\">0</span> <span style=\"color: #008080; text-decoration-color: #008080; font-weight: bold\">1</span><span style=\"font-weight: bold\">]</span>\n",
       "</pre>\n"
      ],
      "text/plain": [
       "OnlineSecurity : \u001b[1m[\u001b[0m\u001b[1;36m0\u001b[0m \u001b[1;36m1\u001b[0m\u001b[1m]\u001b[0m\n"
      ]
     },
     "metadata": {},
     "output_type": "display_data"
    },
    {
     "data": {
      "text/html": [
       "<pre style=\"white-space:pre;overflow-x:auto;line-height:normal;font-family:Menlo,'DejaVu Sans Mono',consolas,'Courier New',monospace\">OnlineBackup : <span style=\"font-weight: bold\">[</span><span style=\"color: #008080; text-decoration-color: #008080; font-weight: bold\">1</span> <span style=\"color: #008080; text-decoration-color: #008080; font-weight: bold\">0</span><span style=\"font-weight: bold\">]</span>\n",
       "</pre>\n"
      ],
      "text/plain": [
       "OnlineBackup : \u001b[1m[\u001b[0m\u001b[1;36m1\u001b[0m \u001b[1;36m0\u001b[0m\u001b[1m]\u001b[0m\n"
      ]
     },
     "metadata": {},
     "output_type": "display_data"
    },
    {
     "data": {
      "text/html": [
       "<pre style=\"white-space:pre;overflow-x:auto;line-height:normal;font-family:Menlo,'DejaVu Sans Mono',consolas,'Courier New',monospace\">DeviceProtection : <span style=\"font-weight: bold\">[</span><span style=\"color: #008080; text-decoration-color: #008080; font-weight: bold\">0</span> <span style=\"color: #008080; text-decoration-color: #008080; font-weight: bold\">1</span><span style=\"font-weight: bold\">]</span>\n",
       "</pre>\n"
      ],
      "text/plain": [
       "DeviceProtection : \u001b[1m[\u001b[0m\u001b[1;36m0\u001b[0m \u001b[1;36m1\u001b[0m\u001b[1m]\u001b[0m\n"
      ]
     },
     "metadata": {},
     "output_type": "display_data"
    },
    {
     "data": {
      "text/html": [
       "<pre style=\"white-space:pre;overflow-x:auto;line-height:normal;font-family:Menlo,'DejaVu Sans Mono',consolas,'Courier New',monospace\">TechSupport : <span style=\"font-weight: bold\">[</span><span style=\"color: #008080; text-decoration-color: #008080; font-weight: bold\">0</span> <span style=\"color: #008080; text-decoration-color: #008080; font-weight: bold\">1</span><span style=\"font-weight: bold\">]</span>\n",
       "</pre>\n"
      ],
      "text/plain": [
       "TechSupport : \u001b[1m[\u001b[0m\u001b[1;36m0\u001b[0m \u001b[1;36m1\u001b[0m\u001b[1m]\u001b[0m\n"
      ]
     },
     "metadata": {},
     "output_type": "display_data"
    },
    {
     "data": {
      "text/html": [
       "<pre style=\"white-space:pre;overflow-x:auto;line-height:normal;font-family:Menlo,'DejaVu Sans Mono',consolas,'Courier New',monospace\">StreamingTV : <span style=\"font-weight: bold\">[</span><span style=\"color: #008080; text-decoration-color: #008080; font-weight: bold\">0</span> <span style=\"color: #008080; text-decoration-color: #008080; font-weight: bold\">1</span><span style=\"font-weight: bold\">]</span>\n",
       "</pre>\n"
      ],
      "text/plain": [
       "StreamingTV : \u001b[1m[\u001b[0m\u001b[1;36m0\u001b[0m \u001b[1;36m1\u001b[0m\u001b[1m]\u001b[0m\n"
      ]
     },
     "metadata": {},
     "output_type": "display_data"
    },
    {
     "data": {
      "text/html": [
       "<pre style=\"white-space:pre;overflow-x:auto;line-height:normal;font-family:Menlo,'DejaVu Sans Mono',consolas,'Courier New',monospace\">StreamingMovies : <span style=\"font-weight: bold\">[</span><span style=\"color: #008080; text-decoration-color: #008080; font-weight: bold\">0</span> <span style=\"color: #008080; text-decoration-color: #008080; font-weight: bold\">1</span><span style=\"font-weight: bold\">]</span>\n",
       "</pre>\n"
      ],
      "text/plain": [
       "StreamingMovies : \u001b[1m[\u001b[0m\u001b[1;36m0\u001b[0m \u001b[1;36m1\u001b[0m\u001b[1m]\u001b[0m\n"
      ]
     },
     "metadata": {},
     "output_type": "display_data"
    },
    {
     "data": {
      "text/html": [
       "<pre style=\"white-space:pre;overflow-x:auto;line-height:normal;font-family:Menlo,'DejaVu Sans Mono',consolas,'Courier New',monospace\">Contract : <span style=\"font-weight: bold\">[</span><span style=\"color: #008000; text-decoration-color: #008000\">'Month-to-month'</span> <span style=\"color: #008000; text-decoration-color: #008000\">'One year'</span> <span style=\"color: #008000; text-decoration-color: #008000\">'Two year'</span><span style=\"font-weight: bold\">]</span>\n",
       "</pre>\n"
      ],
      "text/plain": [
       "Contract : \u001b[1m[\u001b[0m\u001b[32m'Month-to-month'\u001b[0m \u001b[32m'One year'\u001b[0m \u001b[32m'Two year'\u001b[0m\u001b[1m]\u001b[0m\n"
      ]
     },
     "metadata": {},
     "output_type": "display_data"
    },
    {
     "data": {
      "text/html": [
       "<pre style=\"white-space:pre;overflow-x:auto;line-height:normal;font-family:Menlo,'DejaVu Sans Mono',consolas,'Courier New',monospace\">PaperlessBilling : <span style=\"font-weight: bold\">[</span><span style=\"color: #008080; text-decoration-color: #008080; font-weight: bold\">1</span> <span style=\"color: #008080; text-decoration-color: #008080; font-weight: bold\">0</span><span style=\"font-weight: bold\">]</span>\n",
       "</pre>\n"
      ],
      "text/plain": [
       "PaperlessBilling : \u001b[1m[\u001b[0m\u001b[1;36m1\u001b[0m \u001b[1;36m0\u001b[0m\u001b[1m]\u001b[0m\n"
      ]
     },
     "metadata": {},
     "output_type": "display_data"
    },
    {
     "data": {
      "text/html": [
       "<pre style=\"white-space:pre;overflow-x:auto;line-height:normal;font-family:Menlo,'DejaVu Sans Mono',consolas,'Courier New',monospace\">PaymentMethod : <span style=\"font-weight: bold\">[</span><span style=\"color: #008000; text-decoration-color: #008000\">'Electronic check'</span> <span style=\"color: #008000; text-decoration-color: #008000\">'Mailed check'</span> <span style=\"color: #008000; text-decoration-color: #008000\">'Bank transfer (automatic)'</span>\n",
       " <span style=\"color: #008000; text-decoration-color: #008000\">'Credit card (automatic)'</span><span style=\"font-weight: bold\">]</span>\n",
       "</pre>\n"
      ],
      "text/plain": [
       "PaymentMethod : \u001b[1m[\u001b[0m\u001b[32m'Electronic check'\u001b[0m \u001b[32m'Mailed check'\u001b[0m \u001b[32m'Bank transfer \u001b[0m\u001b[32m(\u001b[0m\u001b[32mautomatic\u001b[0m\u001b[32m)\u001b[0m\u001b[32m'\u001b[0m\n",
       " \u001b[32m'Credit card \u001b[0m\u001b[32m(\u001b[0m\u001b[32mautomatic\u001b[0m\u001b[32m)\u001b[0m\u001b[32m'\u001b[0m\u001b[1m]\u001b[0m\n"
      ]
     },
     "metadata": {},
     "output_type": "display_data"
    },
    {
     "data": {
      "text/html": [
       "<pre style=\"white-space:pre;overflow-x:auto;line-height:normal;font-family:Menlo,'DejaVu Sans Mono',consolas,'Courier New',monospace\">MonthlyCharges : <span style=\"font-weight: bold\">[</span><span style=\"color: #008080; text-decoration-color: #008080; font-weight: bold\">29.85</span> <span style=\"color: #008080; text-decoration-color: #008080; font-weight: bold\">56.95</span> <span style=\"color: #008080; text-decoration-color: #008080; font-weight: bold\">53.85</span> <span style=\"color: #808000; text-decoration-color: #808000\">...</span> <span style=\"color: #008080; text-decoration-color: #008080; font-weight: bold\">63.1</span>  <span style=\"color: #008080; text-decoration-color: #008080; font-weight: bold\">44.2</span>  <span style=\"color: #008080; text-decoration-color: #008080; font-weight: bold\">78.7</span> <span style=\"font-weight: bold\">]</span>\n",
       "</pre>\n"
      ],
      "text/plain": [
       "MonthlyCharges : \u001b[1m[\u001b[0m\u001b[1;36m29.85\u001b[0m \u001b[1;36m56.95\u001b[0m \u001b[1;36m53.85\u001b[0m \u001b[33m...\u001b[0m \u001b[1;36m63.1\u001b[0m  \u001b[1;36m44.2\u001b[0m  \u001b[1;36m78.7\u001b[0m \u001b[1m]\u001b[0m\n"
      ]
     },
     "metadata": {},
     "output_type": "display_data"
    },
    {
     "data": {
      "text/html": [
       "<pre style=\"white-space:pre;overflow-x:auto;line-height:normal;font-family:Menlo,'DejaVu Sans Mono',consolas,'Courier New',monospace\">TotalCharges : <span style=\"font-weight: bold\">[</span><span style=\"color: #008000; text-decoration-color: #008000\">'29.85'</span> <span style=\"color: #008000; text-decoration-color: #008000\">'1889.5'</span> <span style=\"color: #008000; text-decoration-color: #008000\">'108.15'</span> <span style=\"color: #808000; text-decoration-color: #808000\">...</span> <span style=\"color: #008000; text-decoration-color: #008000\">'346.45'</span> <span style=\"color: #008000; text-decoration-color: #008000\">'306.6'</span> <span style=\"color: #008000; text-decoration-color: #008000\">'6844.5'</span><span style=\"font-weight: bold\">]</span>\n",
       "</pre>\n"
      ],
      "text/plain": [
       "TotalCharges : \u001b[1m[\u001b[0m\u001b[32m'29.85'\u001b[0m \u001b[32m'1889.5'\u001b[0m \u001b[32m'108.15'\u001b[0m \u001b[33m...\u001b[0m \u001b[32m'346.45'\u001b[0m \u001b[32m'306.6'\u001b[0m \u001b[32m'6844.5'\u001b[0m\u001b[1m]\u001b[0m\n"
      ]
     },
     "metadata": {},
     "output_type": "display_data"
    },
    {
     "data": {
      "text/html": [
       "<pre style=\"white-space:pre;overflow-x:auto;line-height:normal;font-family:Menlo,'DejaVu Sans Mono',consolas,'Courier New',monospace\">Churn : <span style=\"font-weight: bold\">[</span><span style=\"color: #008080; text-decoration-color: #008080; font-weight: bold\">0</span> <span style=\"color: #008080; text-decoration-color: #008080; font-weight: bold\">1</span><span style=\"font-weight: bold\">]</span>\n",
       "</pre>\n"
      ],
      "text/plain": [
       "Churn : \u001b[1m[\u001b[0m\u001b[1;36m0\u001b[0m \u001b[1;36m1\u001b[0m\u001b[1m]\u001b[0m\n"
      ]
     },
     "metadata": {},
     "output_type": "display_data"
    }
   ],
   "source": [
    "for cols in df:\n",
    "    print(f'{cols} : {df[cols].unique()}')"
   ]
  },
  {
   "cell_type": "code",
   "execution_count": 18,
   "metadata": {},
   "outputs": [],
   "source": [
    "df['gender'].replace({'Female': 1, 'Male': 0}, inplace= True)"
   ]
  },
  {
   "cell_type": "markdown",
   "metadata": {},
   "source": [
    "# Perfom One Hot Encoding"
   ]
  },
  {
   "cell_type": "markdown",
   "metadata": {},
   "source": [
    "The purpose of one-hot encoding is to represent categorical variables as binary vectors, making it easier for machine learning models to process and interpret the data. "
   ]
  },
  {
   "cell_type": "markdown",
   "metadata": {},
   "source": [
    "What happens here is that for each unique values in a column, a dummy is created. For instance using InternetService column, 3 columns will be created, each rep the uniq values. Now, if the column reads for example DSL, the other created columns will be assigned a 0, while the DSL value column will be 1. \n",
    "Same applies to all the other uniq values."
   ]
  },
  {
   "cell_type": "code",
   "execution_count": 19,
   "metadata": {},
   "outputs": [
    {
     "data": {
      "text/html": [
       "<div>\n",
       "<style scoped>\n",
       "    .dataframe tbody tr th:only-of-type {\n",
       "        vertical-align: middle;\n",
       "    }\n",
       "\n",
       "    .dataframe tbody tr th {\n",
       "        vertical-align: top;\n",
       "    }\n",
       "\n",
       "    .dataframe thead th {\n",
       "        text-align: right;\n",
       "    }\n",
       "</style>\n",
       "<table border=\"1\" class=\"dataframe\">\n",
       "  <thead>\n",
       "    <tr style=\"text-align: right;\">\n",
       "      <th></th>\n",
       "      <th>customerID</th>\n",
       "      <th>gender</th>\n",
       "      <th>SeniorCitizen</th>\n",
       "      <th>Partner</th>\n",
       "      <th>Dependents</th>\n",
       "      <th>tenure</th>\n",
       "      <th>PhoneService</th>\n",
       "      <th>MultipleLines</th>\n",
       "      <th>OnlineSecurity</th>\n",
       "      <th>OnlineBackup</th>\n",
       "      <th>...</th>\n",
       "      <th>InternetService_DSL</th>\n",
       "      <th>InternetService_Fiber optic</th>\n",
       "      <th>InternetService_No</th>\n",
       "      <th>Contract_Month-to-month</th>\n",
       "      <th>Contract_One year</th>\n",
       "      <th>Contract_Two year</th>\n",
       "      <th>PaymentMethod_Bank transfer (automatic)</th>\n",
       "      <th>PaymentMethod_Credit card (automatic)</th>\n",
       "      <th>PaymentMethod_Electronic check</th>\n",
       "      <th>PaymentMethod_Mailed check</th>\n",
       "    </tr>\n",
       "  </thead>\n",
       "  <tbody>\n",
       "    <tr>\n",
       "      <th>3533</th>\n",
       "      <td>4318-RAJVY</td>\n",
       "      <td>1</td>\n",
       "      <td>0</td>\n",
       "      <td>0</td>\n",
       "      <td>0</td>\n",
       "      <td>10</td>\n",
       "      <td>1</td>\n",
       "      <td>0</td>\n",
       "      <td>0</td>\n",
       "      <td>0</td>\n",
       "      <td>...</td>\n",
       "      <td>0</td>\n",
       "      <td>0</td>\n",
       "      <td>1</td>\n",
       "      <td>0</td>\n",
       "      <td>1</td>\n",
       "      <td>0</td>\n",
       "      <td>0</td>\n",
       "      <td>0</td>\n",
       "      <td>0</td>\n",
       "      <td>1</td>\n",
       "    </tr>\n",
       "    <tr>\n",
       "      <th>5674</th>\n",
       "      <td>3566-CAAYU</td>\n",
       "      <td>1</td>\n",
       "      <td>0</td>\n",
       "      <td>1</td>\n",
       "      <td>1</td>\n",
       "      <td>64</td>\n",
       "      <td>0</td>\n",
       "      <td>0</td>\n",
       "      <td>0</td>\n",
       "      <td>1</td>\n",
       "      <td>...</td>\n",
       "      <td>1</td>\n",
       "      <td>0</td>\n",
       "      <td>0</td>\n",
       "      <td>0</td>\n",
       "      <td>0</td>\n",
       "      <td>1</td>\n",
       "      <td>0</td>\n",
       "      <td>0</td>\n",
       "      <td>1</td>\n",
       "      <td>0</td>\n",
       "    </tr>\n",
       "  </tbody>\n",
       "</table>\n",
       "<p>2 rows × 28 columns</p>\n",
       "</div>"
      ],
      "text/plain": [
       "      customerID  gender  SeniorCitizen  Partner  Dependents  tenure  \\\n",
       "3533  4318-RAJVY       1              0        0           0      10   \n",
       "5674  3566-CAAYU       1              0        1           1      64   \n",
       "\n",
       "      PhoneService  MultipleLines  OnlineSecurity  OnlineBackup  ...  \\\n",
       "3533             1              0               0             0  ...   \n",
       "5674             0              0               0             1  ...   \n",
       "\n",
       "      InternetService_DSL  InternetService_Fiber optic  InternetService_No  \\\n",
       "3533                    0                            0                   1   \n",
       "5674                    1                            0                   0   \n",
       "\n",
       "      Contract_Month-to-month  Contract_One year  Contract_Two year  \\\n",
       "3533                        0                  1                  0   \n",
       "5674                        0                  0                  1   \n",
       "\n",
       "     PaymentMethod_Bank transfer (automatic)  \\\n",
       "3533                                       0   \n",
       "5674                                       0   \n",
       "\n",
       "      PaymentMethod_Credit card (automatic)  PaymentMethod_Electronic check  \\\n",
       "3533                                      0                               0   \n",
       "5674                                      0                               1   \n",
       "\n",
       "      PaymentMethod_Mailed check  \n",
       "3533                           1  \n",
       "5674                           0  \n",
       "\n",
       "[2 rows x 28 columns]"
      ]
     },
     "execution_count": 19,
     "metadata": {},
     "output_type": "execute_result"
    }
   ],
   "source": [
    "df1 = pd.get_dummies(data=df, columns=['InternetService', 'Contract', 'PaymentMethod'])\n",
    "df1.sample(2)"
   ]
  },
  {
   "cell_type": "code",
   "execution_count": 20,
   "metadata": {},
   "outputs": [
    {
     "data": {
      "text/plain": [
       "customerID                                  object\n",
       "gender                                       int64\n",
       "SeniorCitizen                                int64\n",
       "Partner                                      int64\n",
       "Dependents                                   int64\n",
       "tenure                                       int64\n",
       "PhoneService                                 int64\n",
       "MultipleLines                                int64\n",
       "OnlineSecurity                               int64\n",
       "OnlineBackup                                 int64\n",
       "DeviceProtection                             int64\n",
       "TechSupport                                  int64\n",
       "StreamingTV                                  int64\n",
       "StreamingMovies                              int64\n",
       "PaperlessBilling                             int64\n",
       "MonthlyCharges                             float64\n",
       "TotalCharges                                object\n",
       "Churn                                        int64\n",
       "InternetService_DSL                          uint8\n",
       "InternetService_Fiber optic                  uint8\n",
       "InternetService_No                           uint8\n",
       "Contract_Month-to-month                      uint8\n",
       "Contract_One year                            uint8\n",
       "Contract_Two year                            uint8\n",
       "PaymentMethod_Bank transfer (automatic)      uint8\n",
       "PaymentMethod_Credit card (automatic)        uint8\n",
       "PaymentMethod_Electronic check               uint8\n",
       "PaymentMethod_Mailed check                   uint8\n",
       "dtype: object"
      ]
     },
     "execution_count": 20,
     "metadata": {},
     "output_type": "execute_result"
    }
   ],
   "source": [
    "df1.dtypes"
   ]
  },
  {
   "cell_type": "markdown",
   "metadata": {},
   "source": [
    "# Scaling Data"
   ]
  },
  {
   "cell_type": "markdown",
   "metadata": {},
   "source": [
    "The purpose of scaling data is to bring all features to a standard range, making them comparable and ensuring that certain features do not dominate others."
   ]
  },
  {
   "cell_type": "code",
   "execution_count": 21,
   "metadata": {},
   "outputs": [],
   "source": [
    "# scale columns to come to 0 & 1 range\n",
    "\n",
    "cols_to_scale = ['tenure', 'MonthlyCharges', 'TotalCharges']\n",
    "from sklearn.preprocessing import MinMaxScaler\n",
    "scaler = MinMaxScaler()\n",
    "\n",
    "df1[cols_to_scale] = scaler.fit_transform(df1[cols_to_scale])"
   ]
  },
  {
   "cell_type": "code",
   "execution_count": 24,
   "metadata": {},
   "outputs": [
    {
     "data": {
      "text/html": [
       "<div>\n",
       "<style scoped>\n",
       "    .dataframe tbody tr th:only-of-type {\n",
       "        vertical-align: middle;\n",
       "    }\n",
       "\n",
       "    .dataframe tbody tr th {\n",
       "        vertical-align: top;\n",
       "    }\n",
       "\n",
       "    .dataframe thead th {\n",
       "        text-align: right;\n",
       "    }\n",
       "</style>\n",
       "<table border=\"1\" class=\"dataframe\">\n",
       "  <thead>\n",
       "    <tr style=\"text-align: right;\">\n",
       "      <th></th>\n",
       "      <th>gender</th>\n",
       "      <th>SeniorCitizen</th>\n",
       "      <th>Partner</th>\n",
       "      <th>Dependents</th>\n",
       "      <th>tenure</th>\n",
       "      <th>PhoneService</th>\n",
       "      <th>MultipleLines</th>\n",
       "      <th>OnlineSecurity</th>\n",
       "      <th>OnlineBackup</th>\n",
       "      <th>DeviceProtection</th>\n",
       "      <th>...</th>\n",
       "      <th>InternetService_DSL</th>\n",
       "      <th>InternetService_Fiber optic</th>\n",
       "      <th>InternetService_No</th>\n",
       "      <th>Contract_Month-to-month</th>\n",
       "      <th>Contract_One year</th>\n",
       "      <th>Contract_Two year</th>\n",
       "      <th>PaymentMethod_Bank transfer (automatic)</th>\n",
       "      <th>PaymentMethod_Credit card (automatic)</th>\n",
       "      <th>PaymentMethod_Electronic check</th>\n",
       "      <th>PaymentMethod_Mailed check</th>\n",
       "    </tr>\n",
       "  </thead>\n",
       "  <tbody>\n",
       "    <tr>\n",
       "      <th>4159</th>\n",
       "      <td>1</td>\n",
       "      <td>1</td>\n",
       "      <td>0</td>\n",
       "      <td>0</td>\n",
       "      <td>0.816901</td>\n",
       "      <td>1</td>\n",
       "      <td>1</td>\n",
       "      <td>1</td>\n",
       "      <td>1</td>\n",
       "      <td>1</td>\n",
       "      <td>...</td>\n",
       "      <td>0</td>\n",
       "      <td>1</td>\n",
       "      <td>0</td>\n",
       "      <td>1</td>\n",
       "      <td>0</td>\n",
       "      <td>0</td>\n",
       "      <td>0</td>\n",
       "      <td>0</td>\n",
       "      <td>1</td>\n",
       "      <td>0</td>\n",
       "    </tr>\n",
       "    <tr>\n",
       "      <th>5078</th>\n",
       "      <td>1</td>\n",
       "      <td>0</td>\n",
       "      <td>1</td>\n",
       "      <td>1</td>\n",
       "      <td>0.929577</td>\n",
       "      <td>1</td>\n",
       "      <td>1</td>\n",
       "      <td>1</td>\n",
       "      <td>0</td>\n",
       "      <td>1</td>\n",
       "      <td>...</td>\n",
       "      <td>0</td>\n",
       "      <td>1</td>\n",
       "      <td>0</td>\n",
       "      <td>0</td>\n",
       "      <td>1</td>\n",
       "      <td>0</td>\n",
       "      <td>1</td>\n",
       "      <td>0</td>\n",
       "      <td>0</td>\n",
       "      <td>0</td>\n",
       "    </tr>\n",
       "    <tr>\n",
       "      <th>2009</th>\n",
       "      <td>0</td>\n",
       "      <td>0</td>\n",
       "      <td>1</td>\n",
       "      <td>1</td>\n",
       "      <td>0.971831</td>\n",
       "      <td>1</td>\n",
       "      <td>1</td>\n",
       "      <td>1</td>\n",
       "      <td>1</td>\n",
       "      <td>1</td>\n",
       "      <td>...</td>\n",
       "      <td>1</td>\n",
       "      <td>0</td>\n",
       "      <td>0</td>\n",
       "      <td>0</td>\n",
       "      <td>0</td>\n",
       "      <td>1</td>\n",
       "      <td>1</td>\n",
       "      <td>0</td>\n",
       "      <td>0</td>\n",
       "      <td>0</td>\n",
       "    </tr>\n",
       "  </tbody>\n",
       "</table>\n",
       "<p>3 rows × 27 columns</p>\n",
       "</div>"
      ],
      "text/plain": [
       "      gender  SeniorCitizen  Partner  Dependents    tenure  PhoneService  \\\n",
       "4159       1              1        0           0  0.816901             1   \n",
       "5078       1              0        1           1  0.929577             1   \n",
       "2009       0              0        1           1  0.971831             1   \n",
       "\n",
       "      MultipleLines  OnlineSecurity  OnlineBackup  DeviceProtection  ...  \\\n",
       "4159              1               1             1                 1  ...   \n",
       "5078              1               1             0                 1  ...   \n",
       "2009              1               1             1                 1  ...   \n",
       "\n",
       "      InternetService_DSL  InternetService_Fiber optic  InternetService_No  \\\n",
       "4159                    0                            1                   0   \n",
       "5078                    0                            1                   0   \n",
       "2009                    1                            0                   0   \n",
       "\n",
       "      Contract_Month-to-month  Contract_One year  Contract_Two year  \\\n",
       "4159                        1                  0                  0   \n",
       "5078                        0                  1                  0   \n",
       "2009                        0                  0                  1   \n",
       "\n",
       "      PaymentMethod_Bank transfer (automatic)  \\\n",
       "4159                                        0   \n",
       "5078                                        1   \n",
       "2009                                        1   \n",
       "\n",
       "      PaymentMethod_Credit card (automatic)  PaymentMethod_Electronic check  \\\n",
       "4159                                      0                               1   \n",
       "5078                                      0                               0   \n",
       "2009                                      0                               0   \n",
       "\n",
       "      PaymentMethod_Mailed check  \n",
       "4159                           0  \n",
       "5078                           0  \n",
       "2009                           0  \n",
       "\n",
       "[3 rows x 27 columns]"
      ]
     },
     "execution_count": 24,
     "metadata": {},
     "output_type": "execute_result"
    }
   ],
   "source": [
    "df1 = X = df1.drop(columns='customerID')\n",
    "df1.sample(3)\n"
   ]
  },
  {
   "cell_type": "markdown",
   "metadata": {},
   "source": [
    "What happened is that the Tenure, MonthlyCharges, TotalCharges col values were converted to a range of 1 and 0."
   ]
  },
  {
   "cell_type": "markdown",
   "metadata": {},
   "source": [
    "# Model Building"
   ]
  },
  {
   "cell_type": "markdown",
   "metadata": {},
   "source": [
    "Train, Test, Split"
   ]
  },
  {
   "cell_type": "code",
   "execution_count": 25,
   "metadata": {},
   "outputs": [],
   "source": [
    "# figure out the train and test data\n",
    "X = df1.drop(columns='Churn')\n",
    "y = df1[\"Churn\"]"
   ]
  },
  {
   "cell_type": "code",
   "execution_count": 26,
   "metadata": {},
   "outputs": [
    {
     "data": {
      "text/plain": [
       "(5625, 26)"
      ]
     },
     "execution_count": 26,
     "metadata": {},
     "output_type": "execute_result"
    }
   ],
   "source": [
    "X_train, X_test, y_train, y_test = train_test_split(X, y, test_size=0.2, random_state=42)\n",
    "X_train.shape"
   ]
  },
  {
   "cell_type": "code",
   "execution_count": 27,
   "metadata": {},
   "outputs": [
    {
     "data": {
      "text/plain": [
       "(1407, 26)"
      ]
     },
     "execution_count": 27,
     "metadata": {},
     "output_type": "execute_result"
    }
   ],
   "source": [
    "X_test.shape"
   ]
  },
  {
   "cell_type": "markdown",
   "metadata": {},
   "source": [
    "# Create a Neural Network"
   ]
  },
  {
   "cell_type": "code",
   "execution_count": 31,
   "metadata": {},
   "outputs": [
    {
     "name": "stdout",
     "output_type": "stream",
     "text": [
      "Epoch 1/100\n",
      "176/176 [==============================] - 5s 10ms/step - loss: 0.5395 - accuracy: 0.7262\n",
      "Epoch 2/100\n",
      "176/176 [==============================] - 1s 7ms/step - loss: 0.4390 - accuracy: 0.7870\n",
      "Epoch 3/100\n",
      "176/176 [==============================] - 1s 5ms/step - loss: 0.4245 - accuracy: 0.7980\n",
      "Epoch 4/100\n",
      "176/176 [==============================] - 1s 6ms/step - loss: 0.4200 - accuracy: 0.7996\n",
      "Epoch 5/100\n",
      "176/176 [==============================] - 1s 6ms/step - loss: 0.4168 - accuracy: 0.8041\n",
      "Epoch 6/100\n",
      "176/176 [==============================] - 1s 6ms/step - loss: 0.4146 - accuracy: 0.8041\n",
      "Epoch 7/100\n",
      "176/176 [==============================] - 1s 6ms/step - loss: 0.4141 - accuracy: 0.8057\n",
      "Epoch 8/100\n",
      "176/176 [==============================] - 1s 5ms/step - loss: 0.4126 - accuracy: 0.8053\n",
      "Epoch 9/100\n",
      "176/176 [==============================] - 1s 5ms/step - loss: 0.4114 - accuracy: 0.8048\n",
      "Epoch 10/100\n",
      "176/176 [==============================] - 1s 5ms/step - loss: 0.4105 - accuracy: 0.8073\n",
      "Epoch 11/100\n",
      "176/176 [==============================] - 1s 5ms/step - loss: 0.4098 - accuracy: 0.8085\n",
      "Epoch 12/100\n",
      "176/176 [==============================] - 1s 7ms/step - loss: 0.4092 - accuracy: 0.8087\n",
      "Epoch 13/100\n",
      "176/176 [==============================] - 1s 7ms/step - loss: 0.4088 - accuracy: 0.8084\n",
      "Epoch 14/100\n",
      "176/176 [==============================] - 1s 8ms/step - loss: 0.4078 - accuracy: 0.8128\n",
      "Epoch 15/100\n",
      "176/176 [==============================] - 1s 7ms/step - loss: 0.4077 - accuracy: 0.8114\n",
      "Epoch 16/100\n",
      "176/176 [==============================] - 1s 8ms/step - loss: 0.4068 - accuracy: 0.8096\n",
      "Epoch 17/100\n",
      "176/176 [==============================] - 1s 8ms/step - loss: 0.4056 - accuracy: 0.8117\n",
      "Epoch 18/100\n",
      "176/176 [==============================] - 1s 6ms/step - loss: 0.4050 - accuracy: 0.8096\n",
      "Epoch 19/100\n",
      "176/176 [==============================] - 1s 6ms/step - loss: 0.4042 - accuracy: 0.8116\n",
      "Epoch 20/100\n",
      "176/176 [==============================] - 1s 7ms/step - loss: 0.4045 - accuracy: 0.8107\n",
      "Epoch 21/100\n",
      "176/176 [==============================] - 1s 7ms/step - loss: 0.4033 - accuracy: 0.8123\n",
      "Epoch 22/100\n",
      "176/176 [==============================] - 1s 7ms/step - loss: 0.4030 - accuracy: 0.8121\n",
      "Epoch 23/100\n",
      "176/176 [==============================] - 1s 8ms/step - loss: 0.4023 - accuracy: 0.8116\n",
      "Epoch 24/100\n",
      "176/176 [==============================] - 1s 8ms/step - loss: 0.4022 - accuracy: 0.8126\n",
      "Epoch 25/100\n",
      "176/176 [==============================] - 1s 7ms/step - loss: 0.4012 - accuracy: 0.8121\n",
      "Epoch 26/100\n",
      "176/176 [==============================] - 1s 7ms/step - loss: 0.4005 - accuracy: 0.8117\n",
      "Epoch 27/100\n",
      "176/176 [==============================] - 2s 10ms/step - loss: 0.4003 - accuracy: 0.8126\n",
      "Epoch 28/100\n",
      "176/176 [==============================] - 1s 7ms/step - loss: 0.4007 - accuracy: 0.8142\n",
      "Epoch 29/100\n",
      "176/176 [==============================] - 1s 6ms/step - loss: 0.3999 - accuracy: 0.8128\n",
      "Epoch 30/100\n",
      "176/176 [==============================] - 1s 7ms/step - loss: 0.3985 - accuracy: 0.8130\n",
      "Epoch 31/100\n",
      "176/176 [==============================] - 1s 7ms/step - loss: 0.3982 - accuracy: 0.8146\n",
      "Epoch 32/100\n",
      "176/176 [==============================] - 1s 6ms/step - loss: 0.3976 - accuracy: 0.8148\n",
      "Epoch 33/100\n",
      "176/176 [==============================] - 2s 10ms/step - loss: 0.3973 - accuracy: 0.8165\n",
      "Epoch 34/100\n",
      "176/176 [==============================] - 2s 14ms/step - loss: 0.3971 - accuracy: 0.8148\n",
      "Epoch 35/100\n",
      "176/176 [==============================] - 2s 13ms/step - loss: 0.3966 - accuracy: 0.8108\n",
      "Epoch 36/100\n",
      "176/176 [==============================] - 2s 10ms/step - loss: 0.3966 - accuracy: 0.8132\n",
      "Epoch 37/100\n",
      "176/176 [==============================] - 1s 8ms/step - loss: 0.3957 - accuracy: 0.8139\n",
      "Epoch 38/100\n",
      "176/176 [==============================] - 2s 9ms/step - loss: 0.3955 - accuracy: 0.8142\n",
      "Epoch 39/100\n",
      "176/176 [==============================] - 2s 10ms/step - loss: 0.3950 - accuracy: 0.8164\n",
      "Epoch 40/100\n",
      "176/176 [==============================] - 2s 8ms/step - loss: 0.3950 - accuracy: 0.8151\n",
      "Epoch 41/100\n",
      "176/176 [==============================] - 1s 8ms/step - loss: 0.3943 - accuracy: 0.8121\n",
      "Epoch 42/100\n",
      "176/176 [==============================] - 1s 8ms/step - loss: 0.3938 - accuracy: 0.8142\n",
      "Epoch 43/100\n",
      "176/176 [==============================] - 2s 10ms/step - loss: 0.3934 - accuracy: 0.8148\n",
      "Epoch 44/100\n",
      "176/176 [==============================] - 2s 13ms/step - loss: 0.3925 - accuracy: 0.8156\n",
      "Epoch 45/100\n",
      "176/176 [==============================] - 1s 8ms/step - loss: 0.3931 - accuracy: 0.8164\n",
      "Epoch 46/100\n",
      "176/176 [==============================] - 1s 7ms/step - loss: 0.3924 - accuracy: 0.8164\n",
      "Epoch 47/100\n",
      "176/176 [==============================] - 1s 4ms/step - loss: 0.3923 - accuracy: 0.8169\n",
      "Epoch 48/100\n",
      "176/176 [==============================] - 1s 4ms/step - loss: 0.3916 - accuracy: 0.8167\n",
      "Epoch 49/100\n",
      "176/176 [==============================] - 1s 4ms/step - loss: 0.3911 - accuracy: 0.8188\n",
      "Epoch 50/100\n",
      "176/176 [==============================] - 1s 5ms/step - loss: 0.3916 - accuracy: 0.8178\n",
      "Epoch 51/100\n",
      "176/176 [==============================] - 1s 6ms/step - loss: 0.3906 - accuracy: 0.8185\n",
      "Epoch 52/100\n",
      "176/176 [==============================] - 1s 6ms/step - loss: 0.3901 - accuracy: 0.8192\n",
      "Epoch 53/100\n",
      "176/176 [==============================] - 1s 7ms/step - loss: 0.3905 - accuracy: 0.8176\n",
      "Epoch 54/100\n",
      "176/176 [==============================] - 1s 6ms/step - loss: 0.3895 - accuracy: 0.8162\n",
      "Epoch 55/100\n",
      "176/176 [==============================] - 1s 6ms/step - loss: 0.3892 - accuracy: 0.8172\n",
      "Epoch 56/100\n",
      "176/176 [==============================] - 1s 5ms/step - loss: 0.3891 - accuracy: 0.8172\n",
      "Epoch 57/100\n",
      "176/176 [==============================] - 1s 5ms/step - loss: 0.3897 - accuracy: 0.8165\n",
      "Epoch 58/100\n",
      "176/176 [==============================] - 1s 6ms/step - loss: 0.3881 - accuracy: 0.8171\n",
      "Epoch 59/100\n",
      "176/176 [==============================] - 1s 8ms/step - loss: 0.3886 - accuracy: 0.8183\n",
      "Epoch 60/100\n",
      "176/176 [==============================] - 1s 8ms/step - loss: 0.3873 - accuracy: 0.8188\n",
      "Epoch 61/100\n",
      "176/176 [==============================] - 1s 7ms/step - loss: 0.3870 - accuracy: 0.8165\n",
      "Epoch 62/100\n",
      "176/176 [==============================] - 1s 7ms/step - loss: 0.3869 - accuracy: 0.8183\n",
      "Epoch 63/100\n",
      "176/176 [==============================] - 1s 7ms/step - loss: 0.3869 - accuracy: 0.8210\n",
      "Epoch 64/100\n",
      "176/176 [==============================] - 2s 9ms/step - loss: 0.3865 - accuracy: 0.8188\n",
      "Epoch 65/100\n",
      "176/176 [==============================] - 2s 9ms/step - loss: 0.3862 - accuracy: 0.8192\n",
      "Epoch 66/100\n",
      "176/176 [==============================] - 2s 9ms/step - loss: 0.3864 - accuracy: 0.8185\n",
      "Epoch 67/100\n",
      "176/176 [==============================] - 2s 9ms/step - loss: 0.3856 - accuracy: 0.8204\n",
      "Epoch 68/100\n",
      "176/176 [==============================] - 2s 9ms/step - loss: 0.3857 - accuracy: 0.8199\n",
      "Epoch 69/100\n",
      "176/176 [==============================] - 2s 9ms/step - loss: 0.3858 - accuracy: 0.8187\n",
      "Epoch 70/100\n",
      "176/176 [==============================] - 2s 10ms/step - loss: 0.3856 - accuracy: 0.8217\n",
      "Epoch 71/100\n",
      "176/176 [==============================] - 2s 9ms/step - loss: 0.3865 - accuracy: 0.8199\n",
      "Epoch 72/100\n",
      "176/176 [==============================] - 2s 9ms/step - loss: 0.3839 - accuracy: 0.8197\n",
      "Epoch 73/100\n",
      "176/176 [==============================] - 2s 11ms/step - loss: 0.3837 - accuracy: 0.8213\n",
      "Epoch 74/100\n",
      "176/176 [==============================] - 2s 10ms/step - loss: 0.3839 - accuracy: 0.8203\n",
      "Epoch 75/100\n",
      "176/176 [==============================] - 2s 9ms/step - loss: 0.3836 - accuracy: 0.8210\n",
      "Epoch 76/100\n",
      "176/176 [==============================] - 1s 9ms/step - loss: 0.3840 - accuracy: 0.8212\n",
      "Epoch 77/100\n",
      "176/176 [==============================] - 1s 8ms/step - loss: 0.3842 - accuracy: 0.8197\n",
      "Epoch 78/100\n",
      "176/176 [==============================] - 1s 8ms/step - loss: 0.3837 - accuracy: 0.8213\n",
      "Epoch 79/100\n",
      "176/176 [==============================] - 1s 8ms/step - loss: 0.3826 - accuracy: 0.8235\n",
      "Epoch 80/100\n",
      "176/176 [==============================] - 1s 8ms/step - loss: 0.3823 - accuracy: 0.8219\n",
      "Epoch 81/100\n",
      "176/176 [==============================] - 1s 8ms/step - loss: 0.3826 - accuracy: 0.8204\n",
      "Epoch 82/100\n",
      "176/176 [==============================] - 2s 9ms/step - loss: 0.3822 - accuracy: 0.8224\n",
      "Epoch 83/100\n",
      "176/176 [==============================] - 1s 6ms/step - loss: 0.3823 - accuracy: 0.8222\n",
      "Epoch 84/100\n",
      "176/176 [==============================] - 2s 9ms/step - loss: 0.3822 - accuracy: 0.8199\n",
      "Epoch 85/100\n",
      "176/176 [==============================] - 2s 10ms/step - loss: 0.3813 - accuracy: 0.8217\n",
      "Epoch 86/100\n",
      "176/176 [==============================] - 2s 11ms/step - loss: 0.3814 - accuracy: 0.8233\n",
      "Epoch 87/100\n",
      "176/176 [==============================] - 2s 10ms/step - loss: 0.3815 - accuracy: 0.8212\n",
      "Epoch 88/100\n",
      "176/176 [==============================] - 1s 7ms/step - loss: 0.3807 - accuracy: 0.8210\n",
      "Epoch 89/100\n",
      "176/176 [==============================] - 2s 9ms/step - loss: 0.3811 - accuracy: 0.8210\n",
      "Epoch 90/100\n",
      "176/176 [==============================] - 1s 7ms/step - loss: 0.3802 - accuracy: 0.8210\n",
      "Epoch 91/100\n",
      "176/176 [==============================] - 1s 6ms/step - loss: 0.3811 - accuracy: 0.8213\n",
      "Epoch 92/100\n",
      "176/176 [==============================] - 1s 6ms/step - loss: 0.3796 - accuracy: 0.8228\n",
      "Epoch 93/100\n",
      "176/176 [==============================] - 1s 6ms/step - loss: 0.3791 - accuracy: 0.8238\n",
      "Epoch 94/100\n",
      "176/176 [==============================] - 1s 5ms/step - loss: 0.3797 - accuracy: 0.8217\n",
      "Epoch 95/100\n",
      "176/176 [==============================] - 1s 6ms/step - loss: 0.3794 - accuracy: 0.8254\n",
      "Epoch 96/100\n",
      "176/176 [==============================] - 1s 7ms/step - loss: 0.3794 - accuracy: 0.8233\n",
      "Epoch 97/100\n",
      "176/176 [==============================] - 1s 6ms/step - loss: 0.3792 - accuracy: 0.8244\n",
      "Epoch 98/100\n",
      "176/176 [==============================] - 1s 5ms/step - loss: 0.3790 - accuracy: 0.8215\n",
      "Epoch 99/100\n",
      "176/176 [==============================] - 1s 6ms/step - loss: 0.3785 - accuracy: 0.8251\n",
      "Epoch 100/100\n",
      "176/176 [==============================] - 1s 6ms/step - loss: 0.3790 - accuracy: 0.8265\n"
     ]
    },
    {
     "data": {
      "text/plain": [
       "<keras.src.callbacks.History at 0x19b78f33070>"
      ]
     },
     "execution_count": 31,
     "metadata": {},
     "output_type": "execute_result"
    }
   ],
   "source": [
    "import tensorflow as tf\n",
    "from tensorflow import keras\n",
    "\n",
    "model = keras.Sequential([\n",
    "    keras.layers.Dense(26, input_shape = (26,), activation='relu'),\n",
    "    keras.layers.Dense(1, activation='sigmoid'),\n",
    "])\n",
    "\n",
    "model.compile(\n",
    "    optimizer = 'adam', \n",
    "    loss = 'binary_crossentropy',\n",
    "    metrics = ['accuracy']\n",
    ")\n",
    "\n",
    "model.fit(X_train, y_train, epochs = 100) # you can use any epoch number u want to increase your accuracy"
   ]
  },
  {
   "cell_type": "markdown",
   "metadata": {},
   "source": [
    "Using epochs=100, i got an accuracy of 0.8265"
   ]
  },
  {
   "cell_type": "code",
   "execution_count": 32,
   "metadata": {},
   "outputs": [
    {
     "name": "stdout",
     "output_type": "stream",
     "text": [
      "44/44 [==============================] - 1s 5ms/step - loss: 0.4536 - accuracy: 0.7825\n"
     ]
    },
    {
     "data": {
      "text/plain": [
       "[0.4535588324069977, 0.7825160026550293]"
      ]
     },
     "execution_count": 32,
     "metadata": {},
     "output_type": "execute_result"
    }
   ],
   "source": [
    "# evaluate the model on X_test & y_test\n",
    "\n",
    "model.evaluate(X_test, y_test)"
   ]
  },
  {
   "cell_type": "markdown",
   "metadata": {},
   "source": [
    "# Predict"
   ]
  },
  {
   "cell_type": "code",
   "execution_count": 34,
   "metadata": {},
   "outputs": [
    {
     "name": "stdout",
     "output_type": "stream",
     "text": [
      "44/44 [==============================] - 0s 4ms/step\n"
     ]
    },
    {
     "data": {
      "text/plain": [
       "array([[0.01097551],\n",
       "       [0.04935092],\n",
       "       [0.7575246 ],\n",
       "       [0.03217615],\n",
       "       [0.23769654]], dtype=float32)"
      ]
     },
     "execution_count": 34,
     "metadata": {},
     "output_type": "execute_result"
    }
   ],
   "source": [
    "yp = model.predict(X_test)\n",
    "yp[:5]"
   ]
  },
  {
   "cell_type": "code",
   "execution_count": 37,
   "metadata": {},
   "outputs": [
    {
     "data": {
      "text/plain": [
       "2481    0\n",
       "6784    0\n",
       "6125    1\n",
       "3052    0\n",
       "4099    0\n",
       "Name: Churn, dtype: int64"
      ]
     },
     "execution_count": 37,
     "metadata": {},
     "output_type": "execute_result"
    }
   ],
   "source": [
    "y_test[:5]"
   ]
  },
  {
   "cell_type": "code",
   "execution_count": 35,
   "metadata": {},
   "outputs": [],
   "source": [
    "y_pred = []\n",
    "for element in yp:\n",
    "    if element > 0.5:\n",
    "        y_pred.append(1)\n",
    "    else:\n",
    "        y_pred.append(0)"
   ]
  },
  {
   "cell_type": "code",
   "execution_count": 36,
   "metadata": {},
   "outputs": [
    {
     "data": {
      "text/plain": [
       "[0, 0, 1, 0, 0]"
      ]
     },
     "execution_count": 36,
     "metadata": {},
     "output_type": "execute_result"
    }
   ],
   "source": [
    "y_pred[:5]"
   ]
  },
  {
   "cell_type": "markdown",
   "metadata": {},
   "source": [
    "Classification Report"
   ]
  },
  {
   "cell_type": "code",
   "execution_count": 38,
   "metadata": {},
   "outputs": [
    {
     "data": {
      "text/html": [
       "<pre style=\"white-space:pre;overflow-x:auto;line-height:normal;font-family:Menlo,'DejaVu Sans Mono',consolas,'Courier New',monospace\">              precision    recall  f1-score   support\n",
       "\n",
       "           <span style=\"color: #008080; text-decoration-color: #008080; font-weight: bold\">0</span>       <span style=\"color: #008080; text-decoration-color: #008080; font-weight: bold\">0.83</span>      <span style=\"color: #008080; text-decoration-color: #008080; font-weight: bold\">0.89</span>      <span style=\"color: #008080; text-decoration-color: #008080; font-weight: bold\">0.86</span>      <span style=\"color: #008080; text-decoration-color: #008080; font-weight: bold\">1033</span>\n",
       "           <span style=\"color: #008080; text-decoration-color: #008080; font-weight: bold\">1</span>       <span style=\"color: #008080; text-decoration-color: #008080; font-weight: bold\">0.61</span>      <span style=\"color: #008080; text-decoration-color: #008080; font-weight: bold\">0.49</span>      <span style=\"color: #008080; text-decoration-color: #008080; font-weight: bold\">0.54</span>       <span style=\"color: #008080; text-decoration-color: #008080; font-weight: bold\">374</span>\n",
       "\n",
       "    accuracy                           <span style=\"color: #008080; text-decoration-color: #008080; font-weight: bold\">0.78</span>      <span style=\"color: #008080; text-decoration-color: #008080; font-weight: bold\">1407</span>\n",
       "   macro avg       <span style=\"color: #008080; text-decoration-color: #008080; font-weight: bold\">0.72</span>      <span style=\"color: #008080; text-decoration-color: #008080; font-weight: bold\">0.69</span>      <span style=\"color: #008080; text-decoration-color: #008080; font-weight: bold\">0.70</span>      <span style=\"color: #008080; text-decoration-color: #008080; font-weight: bold\">1407</span>\n",
       "weighted avg       <span style=\"color: #008080; text-decoration-color: #008080; font-weight: bold\">0.77</span>      <span style=\"color: #008080; text-decoration-color: #008080; font-weight: bold\">0.78</span>      <span style=\"color: #008080; text-decoration-color: #008080; font-weight: bold\">0.77</span>      <span style=\"color: #008080; text-decoration-color: #008080; font-weight: bold\">1407</span>\n",
       "\n",
       "</pre>\n"
      ],
      "text/plain": [
       "              precision    recall  f1-score   support\n",
       "\n",
       "           \u001b[1;36m0\u001b[0m       \u001b[1;36m0.83\u001b[0m      \u001b[1;36m0.89\u001b[0m      \u001b[1;36m0.86\u001b[0m      \u001b[1;36m1033\u001b[0m\n",
       "           \u001b[1;36m1\u001b[0m       \u001b[1;36m0.61\u001b[0m      \u001b[1;36m0.49\u001b[0m      \u001b[1;36m0.54\u001b[0m       \u001b[1;36m374\u001b[0m\n",
       "\n",
       "    accuracy                           \u001b[1;36m0.78\u001b[0m      \u001b[1;36m1407\u001b[0m\n",
       "   macro avg       \u001b[1;36m0.72\u001b[0m      \u001b[1;36m0.69\u001b[0m      \u001b[1;36m0.70\u001b[0m      \u001b[1;36m1407\u001b[0m\n",
       "weighted avg       \u001b[1;36m0.77\u001b[0m      \u001b[1;36m0.78\u001b[0m      \u001b[1;36m0.77\u001b[0m      \u001b[1;36m1407\u001b[0m\n",
       "\n"
      ]
     },
     "metadata": {},
     "output_type": "display_data"
    }
   ],
   "source": [
    "from sklearn.metrics import classification_report, confusion_matrix\n",
    "\n",
    "print(classification_report(y_test, y_pred))\n"
   ]
  },
  {
   "cell_type": "markdown",
   "metadata": {},
   "source": [
    "Plot the Confusion Matrix"
   ]
  },
  {
   "cell_type": "code",
   "execution_count": 45,
   "metadata": {},
   "outputs": [
    {
     "data": {
      "text/plain": [
       "Text(0.5, 1.0, 'Truth VS Predicted')"
      ]
     },
     "execution_count": 45,
     "metadata": {},
     "output_type": "execute_result"
    },
    {
     "data": {
      "image/png": "[encoded data removed]",
      "text/plain": [
       "<Figure size 720x432 with 2 Axes>"
      ]
     },
     "metadata": {
      "needs_background": "light"
     },
     "output_type": "display_data"
    }
   ],
   "source": [
    "import seaborn as sns \n",
    "cm = tf.math.confusion_matrix(labels = y_test, predictions=y_pred)\n",
    "\n",
    "plt.figure(figsize=(10,6))\n",
    "sns.heatmap(cm, annot = True, fmt = 'd')\n",
    "plt.ylabel(\"Truth\");\n",
    "plt.title(\"Truth VS Predicted\")\n",
    "#xlabel = 'Predicted'"
   ]
  },
  {
   "cell_type": "markdown",
   "metadata": {},
   "source": [
    "This means that when Truth is 1 (thats when the customer is leaving), the model Predicted 182 times to be True but 192 times, predicted an error. Similarly, when the Truth is 0 (thats when the customer is not leaving), the model predicted 919 times to be true, and 114 times as an error\n",
    " "
   ]
  },
  {
   "cell_type": "markdown",
   "metadata": {},
   "source": [
    "To conclude, the model predicted (192+114) errors and (919+182) correct predictions"
   ]
  },
  {
   "cell_type": "markdown",
   "metadata": {},
   "source": [
    "# Accuracy Score\n"
   ]
  },
  {
   "cell_type": "markdown",
   "metadata": {},
   "source": [
    "The F1-score is a metric that combines both precision and recall, providing a balance between the two. It is defined as the harmonic mean of precision and recall. "
   ]
  },
  {
   "cell_type": "code",
   "execution_count": 47,
   "metadata": {},
   "outputs": [
    {
     "data": {
      "text/plain": [
       "0.78"
      ]
     },
     "execution_count": 47,
     "metadata": {},
     "output_type": "execute_result"
    }
   ],
   "source": [
    "round((919+182)/(919+182+192+114),2)"
   ]
  },
  {
   "cell_type": "markdown",
   "metadata": {},
   "source": [
    "From the Classification Report above, the f1 score accuracy is the same as our accuracy score meaning that we are right about our model"
   ]
  },
  {
   "cell_type": "markdown",
   "metadata": {},
   "source": [
    "# Precision\n"
   ]
  },
  {
   "cell_type": "markdown",
   "metadata": {},
   "source": [
    "\n",
    "Precision is a metric that measures the accuracy of the positive predictions made by a classifier. It is defined as the ratio of true positive predictions to the sum of true positives and false positives."
   ]
  },
  {
   "cell_type": "markdown",
   "metadata": {},
   "source": [
    "for the 0 class (customers who didnt churn)"
   ]
  },
  {
   "cell_type": "code",
   "execution_count": 52,
   "metadata": {},
   "outputs": [
    {
     "data": {
      "text/plain": [
       "0.83"
      ]
     },
     "execution_count": 52,
     "metadata": {},
     "output_type": "execute_result"
    }
   ],
   "source": [
    "round(919/(919+192),2) # same as the precision in our above classification report"
   ]
  },
  {
   "cell_type": "markdown",
   "metadata": {},
   "source": [
    "for the 1 class (customers who did churn)\n"
   ]
  },
  {
   "cell_type": "code",
   "execution_count": 54,
   "metadata": {},
   "outputs": [
    {
     "data": {
      "text/plain": [
       "0.61"
      ]
     },
     "execution_count": 54,
     "metadata": {},
     "output_type": "execute_result"
    }
   ],
   "source": [
    "round(182/(182+114),2) # same as the precision in our above classification report"
   ]
  },
  {
   "cell_type": "markdown",
   "metadata": {},
   "source": [
    "# Recall"
   ]
  },
  {
   "cell_type": "markdown",
   "metadata": {},
   "source": [
    "Recall, also known as Sensitivity or True Positive Rate, is a metric that measures the ability of a classifier to correctly identify all relevant instances. It is defined as the ratio of true positive predictions to the sum of true positives and false negatives."
   ]
  },
  {
   "cell_type": "code",
   "execution_count": 56,
   "metadata": {},
   "outputs": [
    {
     "data": {
      "text/plain": [
       "0.89"
      ]
     },
     "execution_count": 56,
     "metadata": {},
     "output_type": "execute_result"
    }
   ],
   "source": [
    "# for the 0 class (customers who didnt churn)\n",
    "\n",
    "round(919/(919+114),2)"
   ]
  },
  {
   "cell_type": "code",
   "execution_count": 59,
   "metadata": {},
   "outputs": [
    {
     "data": {
      "text/plain": [
       "0.49"
      ]
     },
     "execution_count": 59,
     "metadata": {},
     "output_type": "execute_result"
    }
   ],
   "source": [
    "#for the 1 class (customers who did churn)\n",
    "\n",
    "round(182/(192+182),2)"
   ]
  }
 ],
 "metadata": {
  "kernelspec": {
   "display_name": "Python 3",
   "language": "python",
   "name": "python3"
  },
  "language_info": {
   "codemirror_mode": {
    "name": "ipython",
    "version": 3
   },
   "file_extension": ".py",
   "mimetype": "text/x-python",
   "name": "python",
   "nbconvert_exporter": "python",
   "pygments_lexer": "ipython3",
   "version": "3.9.12"
  }
 },
 "nbformat": 4,
 "nbformat_minor": 2
}
